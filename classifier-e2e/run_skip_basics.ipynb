{
 "cells": [
  {
   "cell_type": "markdown",
   "id": "63ab391a",
   "metadata": {},
   "source": [
    "# 🌍 Overview\n",
    "\n",
    "This demo is a minimalistic MLOps project intended to showcase how to put ML workflows in production. It features: \n",
    "\n",
    "- A feature engineering pipeline that loads data and prepares it for training.\n",
    "- A training pipeline that loads the preprocessed dataset and trains a model.\n",
    "- A batch inference pipeline that runs predictions on the trained model with new data.\n",
    "- A stack switching and leveraging of Sagemaker step operator to outsource training to Cloud\n",
    "- An analysis of training artifacts and their lineage (including connection with W&B)\n",
    "\n",
    "<img src=\"_assets/pipeline_overview.png\" width=\"50%\" alt=\"Pipelines Overview\">"
   ]
  },
  {
   "cell_type": "markdown",
   "id": "66b2977c",
   "metadata": {},
   "source": [
    "# 👶 Step 0. Install Requirements\n",
    "\n",
    "Let's install ZenML to get started. First we'll install the latest version of\n",
    "ZenML as well as the `sklearn` and `xgboost` integration of ZenML:"
   ]
  },
  {
   "cell_type": "code",
   "execution_count": null,
   "id": "f76f562e",
   "metadata": {},
   "outputs": [],
   "source": [
    "! pip3 install -r requirements.txt\n",
    "! zenml integration install sklearn xgboost -y\n",
    "! zenml connect --url https://1cf18d95-zenml.cloudinfra.zenml.io \n",
    "\n",
    "import IPython\n",
    "IPython.Application.instance().kernel.do_shutdown(restart=True)"
   ]
  },
  {
   "cell_type": "code",
   "execution_count": null,
   "id": "081d5616",
   "metadata": {},
   "outputs": [],
   "source": [
    "# Initialize ZenML and set the default stack\n",
    "!zenml init\n",
    "!zenml stack set local-sagemaker-step-operator-wandb"
   ]
  },
  {
   "cell_type": "code",
   "execution_count": null,
   "id": "79f775f2",
   "metadata": {},
   "outputs": [],
   "source": [
    "# Do the imports at the top\n",
    "from zenml import Model\n",
    "from zenml.client import Client\n",
    "from zenml.logger import get_logger\n",
    "\n",
    "from pipelines import training, inference\n",
    "\n",
    "logger = get_logger(__name__)\n",
    "\n",
    "# Initialize the ZenML client to fetch objects from the ZenML Server\n",
    "client = Client()"
   ]
  },
  {
   "cell_type": "markdown",
   "id": "8c28b474",
   "metadata": {},
   "source": [
    "# ⌚ Step 1: Training pipeline"
   ]
  },
  {
   "cell_type": "markdown",
   "id": "87909827",
   "metadata": {},
   "source": [
    "Now that we have our data it makes sense to train some models to get a sense of\n",
    "how difficult the task is. The Breast Cancer dataset is sufficiently large and complex \n",
    "that it's unlikely we'll be able to train a model that behaves perfectly since the problem \n",
    "is inherently complex, but we can get a sense of what a reasonable baseline looks like.\n",
    "\n",
    "We'll start with two simple models, a SGD Classifier and a Random Forest\n",
    "Classifier, both batteries-included from `sklearn`. We'll train them both on the\n",
    "same data and then compare their performance.\n",
    "\n",
    "<img src=\"_assets/training_pipeline.png\" width=\"50%\" alt=\"Training pipeline\">"
   ]
  },
  {
   "cell_type": "code",
   "execution_count": null,
   "id": "dc08aecc",
   "metadata": {},
   "outputs": [],
   "source": [
    "# let's have a look at model training step\n",
    "%pycat steps/model_trainer.py"
   ]
  },
  {
   "cell_type": "markdown",
   "id": "73a00008",
   "metadata": {},
   "source": [
    "Our two training steps both return different kinds of classifier\n",
    "models, so we use the generic `ClassifierMixin` type hint for the return type."
   ]
  },
  {
   "cell_type": "markdown",
   "id": "a5f22174",
   "metadata": {},
   "source": [
    "ZenML allows you to load any version of any dataset that is tracked by the framework\n",
    "directly into a pipeline using the `Client().get_artifact_version` interface. This is very convenient\n",
    "in this case, as we'd like to send our preprocessed dataset from the older pipeline directly\n",
    "into the training pipeline."
   ]
  },
  {
   "cell_type": "code",
   "execution_count": null,
   "id": "01162d23",
   "metadata": {},
   "outputs": [],
   "source": [
    "# let's have a look at training pipeline\n",
    "%pycat pipelines/training.py"
   ]
  },
  {
   "cell_type": "markdown",
   "id": "88b70fd3",
   "metadata": {},
   "source": [
    "The end goal of this quick baseline evaluation is to understand which of the two\n",
    "models performs better. We'll use the `evaluator` step to compare the two\n",
    "models. This step takes in the model from the trainer step, and computes its score\n",
    "over the testing set.\n",
    "\n",
    "Soon you will see that it is relatively easy to train ML models using ZenML pipelines. But it can be somewhat clunky to track\n",
    "all the models produced as you develop your experiments and use-cases. Luckily, ZenML offers a *Model Control Plane*,\n",
    "which is a central register of all your ML models.\n",
    "\n",
    "You can easily create a ZenML Model and associate it with your pipelines using the `Model` object:"
   ]
  },
  {
   "cell_type": "code",
   "execution_count": null,
   "id": "19fe53b2",
   "metadata": {},
   "outputs": [],
   "source": [
    "pipeline_settings = {}\n",
    "\n",
    "# Lets add some metadata to the model to make it identifiable\n",
    "pipeline_settings[\"model\"] = Model(\n",
    "    name=\"breast_cancer_classifier\",\n",
    "    license=\"Apache 2.0\",\n",
    "    description=\"A breast cancer classifier\",\n",
    ")"
   ]
  },
  {
   "cell_type": "code",
   "execution_count": null,
   "id": "c64885ac",
   "metadata": {},
   "outputs": [],
   "source": [
    "# Let's train the XGBoost model and tag the version name with \"xgboost\"\n",
    "pipeline_settings[\"model\"].tags = [\"breast_cancer\", \"classifier\", \"xgboost\"]\n",
    "\n",
    "# Use an XGBoost model with fixed seed.\n",
    "training.with_options(enable_cache=False,**pipeline_settings)(\n",
    "    model_type=\"xgboost\",\n",
    "    random_state=42\n",
    ")\n",
    "\n",
    "xgboost_run = client.get_pipeline(\"training\").last_run"
   ]
  },
  {
   "cell_type": "code",
   "execution_count": null,
   "id": "4300c82f",
   "metadata": {},
   "outputs": [],
   "source": [
    "# Let's train the SGD model and tag the version name with \"sgd\"\n",
    "pipeline_settings[\"model\"].tags = [\"breast_cancer\", \"classifier\", \"sgd\"]\n",
    "\n",
    "# Use a SGD classifier\n",
    "sgd_run = training.with_options(enable_cache=False,**pipeline_settings)(\n",
    "    model_type=\"sgd\",\n",
    "    random_state=42\n",
    ")\n",
    "\n",
    "sgd_run = client.get_pipeline(\"training\").last_run"
   ]
  },
  {
   "cell_type": "markdown",
   "id": "43f1a68a",
   "metadata": {},
   "source": [
    "You can see from the logs already how our model training went: the\n",
    "`XGBClassifier` performed considerably better than the `SGDClassifier`.\n",
    "We can use the ZenML `Client` to verify this:"
   ]
  },
  {
   "cell_type": "code",
   "execution_count": null,
   "id": "d95810b1",
   "metadata": {},
   "outputs": [],
   "source": [
    "# The evaluator returns a float value with the accuracy\n",
    "xgboost_run.steps[\"model_evaluator\"].output.load() >= sgd_run.steps[\"model_evaluator\"].output.load()"
   ]
  },
  {
   "cell_type": "markdown",
   "id": "09597223",
   "metadata": {},
   "source": [
    "Running both pipelines has created two associated **model versions**.\n",
    "You can list your ZenML model and their versions as follows:"
   ]
  },
  {
   "cell_type": "code",
   "execution_count": null,
   "id": "fbb25913",
   "metadata": {},
   "outputs": [],
   "source": [
    "zenml_model = client.get_model(\"breast_cancer_classifier\")\n",
    "print(zenml_model)\n",
    "\n",
    "versions = zenml_model.versions\n",
    "\n",
    "print(f\"Model {zenml_model.name} has {len(versions)} versions\")\n",
    "\n",
    "versions[-2].version, versions[-1].version"
   ]
  },
  {
   "cell_type": "markdown",
   "id": "e82cfac2",
   "metadata": {},
   "source": [
    "The interesting part is that ZenML went ahead and linked all artifacts produced by the\n",
    "pipelines to that model version, including the two pickle files that represent our\n",
    "SGD and RandomForest classifier. We can see all artifacts directly from the model\n",
    "version object:"
   ]
  },
  {
   "cell_type": "code",
   "execution_count": null,
   "id": "31211413",
   "metadata": {},
   "outputs": [],
   "source": [
    "# Let's load the XGBoost version\n",
    "xgboost_zenml_model_version = client.list_model_versions(\"breast_cancer_classifier\", tag=\"xgboost\")[-1]\n",
    "\n",
    "# We can now load our classifier directly as well\n",
    "xgboost_classifier = xgboost_zenml_model_version.get_artifact(\"breast_cancer_classifier\").load()\n",
    "\n",
    "xgboost_classifier"
   ]
  },
  {
   "cell_type": "markdown",
   "id": "53517a9a",
   "metadata": {},
   "source": [
    "If you are a [ZenML Cloud](https://zenml.io/cloud) user, you can see all of this visualized in the dashboard:\n",
    "\n",
    "<img src=\"_assets/cloud_mcp_screenshot.png\" width=\"70%\" alt=\"Model Control Plane\">"
   ]
  },
  {
   "cell_type": "markdown",
   "id": "eb645dde",
   "metadata": {},
   "source": [
    "There is a lot more you can do with ZenML models, including the ability to\n",
    "track metrics by adding metadata to it, or having them persist in a model\n",
    "registry. However, these topics can be explored more in the\n",
    "[ZenML docs](https://docs.zenml.io).\n",
    "\n",
    "For now, we will use the ZenML model control plane to promote our best\n",
    "model to `production`. You can do this by simply setting the `stage` of\n",
    "your chosen model version to the `production` tag."
   ]
  },
  {
   "cell_type": "code",
   "execution_count": null,
   "id": "26b718f8",
   "metadata": {},
   "outputs": [],
   "source": [
    "# Set our best classifier to production\n",
    "xgboost_zenml_model_version.set_stage(\"production\", force=True)"
   ]
  },
  {
   "cell_type": "markdown",
   "id": "9fddf3d0",
   "metadata": {},
   "source": [
    "Of course, normally one would only promote the model by comparing to all other model\n",
    "versions and doing some other tests. But that's a bit more advanced use-case. See the\n",
    "[e2e_batch example](https://github.com/zenml-io/zenml/tree/main/examples/e2e) to get\n",
    "more insight into that sort of flow!"
   ]
  },
  {
   "cell_type": "markdown",
   "id": "2ecbc8cf",
   "metadata": {},
   "source": [
    "<img src=\"_assets/cloud_mcp.png\" width=\"60%\" alt=\"Model Control Plane\">"
   ]
  },
  {
   "cell_type": "markdown",
   "id": "8f1146db",
   "metadata": {},
   "source": [
    "Once the model is promoted, we can now consume the right model version in our\n",
    "batch inference pipeline directly. Let's see how that works."
   ]
  },
  {
   "cell_type": "markdown",
   "id": "d6306f14",
   "metadata": {},
   "source": [
    "# 🫅 Step 2: Consuming the model in production"
   ]
  },
  {
   "cell_type": "markdown",
   "id": "b51f3108",
   "metadata": {},
   "source": [
    "The batch inference pipeline simply takes the model marked as `production` and runs inference on it\n",
    "with `live data`. The critical step here is the `inference_predict` step, where we load the model in memory\n",
    "and generate predictions:\n",
    "\n",
    "<img src=\"_assets/inference_pipeline.png\" width=\"45%\" alt=\"Inference pipeline\">"
   ]
  },
  {
   "cell_type": "code",
   "execution_count": null,
   "id": "92c4c7dc",
   "metadata": {},
   "outputs": [],
   "source": [
    "# let's have a look at training pipeline\n",
    "%pycat steps/inference_predict.py\n"
   ]
  },
  {
   "cell_type": "markdown",
   "id": "3aeb227b",
   "metadata": {},
   "source": [
    "Apart from the loading the model, we must also load the preprocessing pipeline that we ran in feature engineering,\n",
    "so that we can do the exact steps that we did on training time, in inference time. Let's bring it all together:"
   ]
  },
  {
   "cell_type": "code",
   "execution_count": null,
   "id": "37c409bd",
   "metadata": {},
   "outputs": [],
   "source": [
    "# let's have a look at training pipeline\n",
    "%pycat pipelines/inference.py"
   ]
  },
  {
   "cell_type": "markdown",
   "id": "c7afe7be",
   "metadata": {},
   "source": [
    "The way to load the right model is to pass in the `production` stage into the `Model` config this time.\n",
    "This will ensure to always load the production model, decoupled from all other pipelines:"
   ]
  },
  {
   "cell_type": "code",
   "execution_count": null,
   "id": "61bf5939",
   "metadata": {},
   "outputs": [],
   "source": [
    "pipeline_settings = {\"enable_cache\": False}\n",
    "\n",
    "# Lets add some metadata to the model to make it identifiable\n",
    "pipeline_settings[\"model\"] = Model(\n",
    "    name=\"breast_cancer_classifier\",\n",
    "    version=\"production\", # We can pass in the stage name here!\n",
    ")"
   ]
  },
  {
   "cell_type": "code",
   "execution_count": null,
   "id": "ff3402f1",
   "metadata": {},
   "outputs": [],
   "source": [
    "# the `with_options` method allows us to pass in pipeline settings\n",
    "#  and returns a configured pipeline\n",
    "inference.with_options(**pipeline_settings)()"
   ]
  },
  {
   "cell_type": "markdown",
   "id": "2935d1fa",
   "metadata": {},
   "source": [
    "ZenML automatically links all artifacts to the `production` model version as well, including the predictions\n",
    "that were returned in the pipeline. This completes the MLOps loop of training to inference:"
   ]
  },
  {
   "cell_type": "code",
   "execution_count": null,
   "id": "e191d019",
   "metadata": {},
   "outputs": [],
   "source": [
    "# Fetch production model\n",
    "production_model_version = client.get_model_version(\"breast_cancer_classifier\", \"production\")\n",
    "\n",
    "# Get the predictions artifact\n",
    "production_model_version.get_artifact(\"predictions\").load()"
   ]
  },
  {
   "cell_type": "markdown",
   "id": "b0a73cdf",
   "metadata": {},
   "source": [
    "You can also see all predictions ever created as a complete history in the dashboard:\n",
    "\n",
    "<img src=\"_assets/cloud_mcp_predictions.png\" width=\"70%\" alt=\"Model Control Plane\">"
   ]
  },
  {
   "cell_type": "markdown",
   "id": "cdf22981",
   "metadata": {},
   "source": [
    "# 🐙 Step 3: Analyzing results"
   ]
  },
  {
   "cell_type": "code",
   "execution_count": null,
   "id": "2728fa4d",
   "metadata": {},
   "outputs": [],
   "source": [
    "sgd_model_version = client.list_model_versions(\"breast_cancer_classifier\",tag=\"sgd\")[-1]\n",
    "xgboost_model_version = client.list_model_versions(\"breast_cancer_classifier\",tag=\"xgboost\")[-1]\n",
    "print(f\"SGD version is staged as `{sgd_model_version.stage}`\")\n",
    "print(f\"XGBoost version is staged as `{xgboost_model_version.stage}`\")"
   ]
  },
  {
   "cell_type": "markdown",
   "id": "f5d36b23",
   "metadata": {},
   "source": [
    "At first, let's pull some meta information collected during models evaluation stage. To recall we used this step as evaluator:\n",
    "```python\n",
    "@step\n",
    "def model_evaluator(\n",
    "    model: ClassifierMixin,\n",
    "    dataset_trn: pd.DataFrame,\n",
    "    dataset_tst: pd.DataFrame,\n",
    "    min_train_accuracy: float = 0.0,\n",
    "    min_test_accuracy: float = 0.0,\n",
    "    target: Optional[str] = \"target\",\n",
    ") -> float:\n",
    "    # Calculate the model accuracy on the train and test set\n",
    "    trn_acc = model.score(...)\n",
    "    tst_acc = model.score(...)\n",
    "\n",
    "    ...\n",
    "    \n",
    "    predictions = model.predict(dataset_tst.drop(columns=[target]))\n",
    "    metadata = {\n",
    "        \"train_accuracy\": float(trn_acc),\n",
    "        \"test_accuracy\": float(tst_acc),\n",
    "        \"confusion_matrix\": confusion_matrix(dataset_tst[target], predictions)\n",
    "        .ravel()\n",
    "        .tolist(),\n",
    "    }\n",
    "    log_model_metadata(metadata={\"wandb_url\": wandb.run.url})\n",
    "    log_artifact_metadata(\n",
    "        metadata=metadata,\n",
    "        artifact_name=\"breast_cancer_classifier\",\n",
    "    )\n",
    "\n",
    "    wandb.log({\"train_accuracy\": metadata[\"train_accuracy\"]})\n",
    "    wandb.log({\"test_accuracy\": metadata[\"test_accuracy\"]})\n",
    "    wandb.log(\n",
    "        {\n",
    "            \"confusion_matrix\": wandb.sklearn.plot_confusion_matrix(\n",
    "                dataset_tst[target], predictions, [\"No Cancer\", \"Cancer\"]\n",
    "            )\n",
    "        }\n",
    "    )\n",
    "    return float(tst_acc)\n",
    "```\n",
    "First we pull Accuracy metrics out of both model version for comparison:"
   ]
  },
  {
   "cell_type": "code",
   "execution_count": null,
   "id": "ce698de6",
   "metadata": {},
   "outputs": [],
   "source": [
    "sgd_clf_metadata = sgd_model_version.get_artifact(\"breast_cancer_classifier\").run_metadata\n",
    "xgboost_clf_metadata = xgboost_model_version.get_artifact(\"breast_cancer_classifier\").run_metadata\n",
    "print(f\"SGD{' (production)' if sgd_model_version.stage == 'production' else ''} metrics: train={sgd_clf_metadata['train_accuracy'].value*100:.2f}% test={sgd_clf_metadata['test_accuracy'].value*100:.2f}%\")\n",
    "print(f\"XGBoost{' (production)' if xgboost_model_version.stage == 'production' else ''} metrics: train={xgboost_clf_metadata['train_accuracy'].value*100:.2f}% test={xgboost_clf_metadata['test_accuracy'].value*100:.2f}%\")"
   ]
  },
  {
   "cell_type": "markdown",
   "id": "1ceb5256",
   "metadata": {},
   "source": [
    "Now lets' plot collected Confusion Matrixes:"
   ]
  },
  {
   "cell_type": "code",
   "execution_count": null,
   "id": "d488910e",
   "metadata": {},
   "outputs": [],
   "source": [
    "import seaborn as sns\n",
    "import numpy as np\n",
    "import matplotlib.pyplot as plt\n",
    "\n",
    "def plot_confusion_matrix(metadata_pointer, tp: str,ax):\n",
    "    confusion_matrix = np.array(metadata_pointer[\"confusion_matrix\"].value, dtype=float).reshape((2,2))\n",
    "    confusion_matrix /= np.sum(confusion_matrix)\n",
    "    sns.heatmap(confusion_matrix, annot=True,fmt='.2%',cmap=\"coolwarm\",ax=ax)\n",
    "    ax.set_title(f\"{tp} confusion matrix\")\n",
    "    ax.set_ylabel(\"Ground Label\")\n",
    "    ax.set_xlabel(\"Predicted Label\")\n",
    "\n",
    "fig, ax = plt.subplots(1,2,figsize=(15,4))\n",
    "plot_confusion_matrix(sgd_clf_metadata, \"SGD\",ax[0])\n",
    "plot_confusion_matrix(xgboost_clf_metadata, \"RF\",ax[1])"
   ]
  },
  {
   "cell_type": "markdown",
   "id": "fcb63aee",
   "metadata": {},
   "source": [
    "So far we were able to collect all the information we tracked using Model Control Plane, but we also had Weights&Biases tracking enabled - let's dive into.\n",
    "\n",
    "Thanks to Model Control Plane metadata we establish a nice connection between those 2 entities:"
   ]
  },
  {
   "cell_type": "code",
   "execution_count": null,
   "id": "f7097d4f",
   "metadata": {},
   "outputs": [],
   "source": [
    "print(f'SGD version: {sgd_model_version.run_metadata[\"wandb_url\"].value}')\n",
    "print(f'XGBoost version: {xgboost_model_version.run_metadata[\"wandb_url\"].value}')"
   ]
  },
  {
   "cell_type": "markdown",
   "id": "5de78e7b",
   "metadata": {},
   "source": [
    "With Model Control Plane we can also easily track lineage of artifacts and pipeline runs:"
   ]
  },
  {
   "cell_type": "code",
   "execution_count": null,
   "id": "cf8891b6",
   "metadata": {},
   "outputs": [],
   "source": [
    "for artifact_name, versions in sgd_model_version.data_artifacts.items():\n",
    "    if versions:\n",
    "        print(f\"Existing version of `{artifact_name}`:\")\n",
    "        for version_name, artifact_ in  versions.items():\n",
    "            print(version_name, artifact_.data_type.attribute)"
   ]
  },
  {
   "cell_type": "code",
   "execution_count": null,
   "id": "76d386dc",
   "metadata": {},
   "outputs": [],
   "source": [
    "for run_name, run_ in sgd_model_version.pipeline_runs.items():\n",
    "    print(run_name, run_.id)"
   ]
  },
  {
   "cell_type": "markdown",
   "id": "594ee4fc-f102-4b99-bdc3-2f1670c87679",
   "metadata": {},
   "source": [
    "# 🙏 Step 4: Moving to production"
   ]
  },
  {
   "cell_type": "markdown",
   "id": "dfe22780",
   "metadata": {},
   "source": [
    "Let's move some heavy lifting to the Sagemaker. This can be achieved using Sagemaker orchestrator.\n",
    "\n",
    "<img src=\"_assets/sagemaker_stack.png\" width=\"60%\" alt=\"Sagemaker stack\">"
   ]
  },
  {
   "cell_type": "code",
   "execution_count": null,
   "id": "d2774cbc",
   "metadata": {},
   "outputs": [],
   "source": [
    "!zenml stack set sagemaker-pipelines-wandb\n",
    "!zenml stack describe sagemaker-pipelines-wandb"
   ]
  },
  {
   "cell_type": "code",
   "execution_count": null,
   "id": "a3e37542",
   "metadata": {},
   "outputs": [],
   "source": [
    "client.activate_stack(\"sagemaker-pipelines-wandb\")\n",
    "\n",
    "pipeline_settings = {}\n",
    "\n",
    "pipeline_settings[\"model\"] = Model(\n",
    "    name=\"breast_cancer_classifier\",\n",
    "    license=\"Apache 2.0\",\n",
    "    description=\"A breast cancer classifier\",\n",
    "    tags = [\"breast_cancer\", \"classifier\", \"xgboost\"]\n",
    ")\n",
    "\n",
    "training.with_options(**pipeline_settings)(\n",
    "    model_type=\"xgboost\",\n",
    "    random_state=42\n",
    ")"
   ]
  },
  {
   "cell_type": "markdown",
   "id": "d950f97e",
   "metadata": {},
   "source": [
    "# Step 100: deploy"
   ]
  },
  {
   "cell_type": "code",
   "execution_count": 109,
   "id": "9dfb5642",
   "metadata": {},
   "outputs": [],
   "source": [
    "import os\n",
    "from typing import Tuple, Any\n",
    "from typing_extensions import Annotated\n",
    "\n",
    "import boto3\n",
    "import sagemaker\n",
    "\n",
    "from zenml import pipeline, step, get_pipeline_context, get_step_context\n",
    "from sagemaker.image_uris import retrieve\n",
    "from datetime import datetime\n",
    "from sagemaker.predictor import Predictor\n",
    "import pandas as pd\n",
    "from steps import data_loader, inference_preprocessor\n",
    "import random\n",
    "\n",
    "client.activate_stack(\"local-sagemaker-step-operator-wandb\")\n",
    "\n",
    "\n",
    "def get_aws_config() -> Tuple[Any, sagemaker.Session, str]:\n",
    "    REGION_NAME = os.getenv(\"AWS_REGION\", \"us-east-1\")\n",
    "    ROLE_NAME = os.getenv(\"AWS_ROLE_NAME\", \"hamza_connector\")\n",
    "    os.environ[\"AWS_DEFAULT_REGION\"] = REGION_NAME\n",
    "\n",
    "    auth_arguments = {\n",
    "        \"aws_access_key_id\": os.getenv(\"AWS_ACCESS_KEY_ID\", None),\n",
    "        \"aws_secret_access_key\": os.getenv(\"AWS_SECRET_ACCESS_KEY\", None),\n",
    "        \"aws_session_token\": os.getenv(\"AWS_SESSION_TOKEN\", None),\n",
    "        \"region_name\": REGION_NAME,\n",
    "    }\n",
    "    iam = boto3.client(\"iam\", **auth_arguments)\n",
    "    role = iam.get_role(RoleName=ROLE_NAME)[\"Role\"][\"Arn\"]\n",
    "    session = sagemaker.Session(boto3.Session(**auth_arguments))\n",
    "\n",
    "    return role, session, REGION_NAME\n",
    "\n",
    "\n",
    "@step(enable_cache=False)\n",
    "def deploy_endpoint() -> Annotated[str, \"sagemaker_endpoint_name\"]:\n",
    "    role, session, region = get_aws_config()\n",
    "\n",
    "    model = get_step_context().model._get_model_version()\n",
    "    if \"sgd\" in {t.name for t in model.tags}:\n",
    "        image_uri = retrieve(\n",
    "            region=region, framework=\"sklearn\", version=\"1.0-1\"\n",
    "        )\n",
    "        entry_point = \"utils/sklearn_inference.py\"\n",
    "    else:\n",
    "        image_uri = retrieve(\n",
    "            region=region, framework=\"xgboost\", version=\"1.5-1\"\n",
    "        )\n",
    "        entry_point = None\n",
    "\n",
    "    model_data = (\n",
    "        f'{model.get_artifact(\"breast_cancer_classifier\").uri}/model.tar.gz'\n",
    "    )\n",
    "\n",
    "    endpoint_name = f'breast-cancer-classifier-{datetime.now().strftime(\"%Y-%m-%d-%H-%M-%S-%f\")}'\n",
    "    sagemaker.Model(\n",
    "        image_uri=image_uri,\n",
    "        model_data=model_data,\n",
    "        sagemaker_session=session,\n",
    "        role=role,\n",
    "        entry_point=entry_point,\n",
    "    ).deploy(\n",
    "        initial_instance_count=1,\n",
    "        instance_type=\"ml.m5.large\",\n",
    "        endpoint_name=endpoint_name,\n",
    "    )\n",
    "    return endpoint_name\n",
    "\n",
    "\n",
    "@step\n",
    "def predict_on_endpoint(\n",
    "    endpoint_name: str, dataset: pd.DataFrame\n",
    ") -> Annotated[pd.Series, \"real_time_predictions\"]:\n",
    "    predictor = Predictor(endpoint_name=endpoint_name)\n",
    "    predictions = predictor.predict(\n",
    "        data=dataset.to_csv(header=False, index=False),\n",
    "        initial_args={\"ContentType\": \"text/csv\"},\n",
    "    )\n",
    "    return pd.Series(\n",
    "        [float(l) for l in predictions.decode().split(\"\\n\") if l],\n",
    "        name=\"predictions\",\n",
    "    )\n",
    "\n",
    "\n",
    "@step\n",
    "def shutdown_endpoint(endpoint_name: str):\n",
    "    predictor = Predictor(endpoint_name=endpoint_name)\n",
    "    predictor.delete_endpoint()\n",
    "\n",
    "\n",
    "@pipeline\n",
    "def deploy(shutdown_endpoint_after_predicting: bool = True):\n",
    "    # Get the preprocess pipeline artifact associated with this version\n",
    "    preprocess_pipeline = get_pipeline_context().model.get_artifact(\n",
    "        \"preprocess_pipeline\"\n",
    "    )\n",
    "\n",
    "    df_inference = data_loader(\n",
    "        random_state=random.randint(0, 1000), is_inference=True\n",
    "    )\n",
    "    df_inference = inference_preprocessor(\n",
    "        dataset_inf=df_inference,\n",
    "        preprocess_pipeline=preprocess_pipeline,\n",
    "        target=\"target\",\n",
    "    )\n",
    "    endpoint_name = deploy_endpoint()\n",
    "    predict_on_endpoint(endpoint_name, df_inference)\n",
    "    if shutdown_endpoint_after_predicting:\n",
    "        shutdown_endpoint(endpoint_name, after=[\"predict_on_endpoint\"])\n",
    "\n",
    "\n",
    "# deploy.with_options(\n",
    "#     model=Model(name=\"breast_cancer_classifier\", version=\"latest\")\n",
    "# )()"
   ]
  },
  {
   "cell_type": "code",
   "execution_count": 112,
   "id": "aff4c929",
   "metadata": {},
   "outputs": [
    {
     "name": "stdout",
     "output_type": "stream",
     "text": [
      "\u001b[1;35m\u001b[0m\u001b[1;36mversion\u001b[1;35m \u001b[0m\u001b[1;36m19\u001b[1;35m is numeric and will be fetched using version number.\u001b[0m\n",
      "\u001b[1;35m\u001b[0m\u001b[1;36mversion\u001b[1;35m \u001b[0m\u001b[1;36m19\u001b[1;35m is numeric and will be fetched using version number.\u001b[0m\n",
      "\u001b[1;35mInitiating a new run for the pipeline: \u001b[0m\u001b[1;36mdeploy\u001b[1;35m.\u001b[0m\n"
     ]
    },
    {
     "name": "stdout",
     "output_type": "stream",
     "text": [
      "\u001b[1;35mReusing registered pipeline version: \u001b[0m\u001b[1;36m(version: 5)\u001b[1;35m.\u001b[0m\n",
      "\u001b[1;35mExecuting a new run.\u001b[0m\n",
      "\u001b[1;35mUsing user: \u001b[0m\u001b[1;36mandrei@zenml.io\u001b[1;35m\u001b[0m\n",
      "\u001b[1;35mUsing stack: \u001b[0m\u001b[1;36mlocal-sagemaker-step-operator-wandb\u001b[1;35m\u001b[0m\n",
      "\u001b[1;35m  step_operator: \u001b[0m\u001b[1;36msagemaker-eu\u001b[1;35m\u001b[0m\n",
      "\u001b[1;35m  container_registry: \u001b[0m\u001b[1;36maws-eu\u001b[1;35m\u001b[0m\n",
      "\u001b[1;35m  experiment_tracker: \u001b[0m\u001b[1;36mzenml_wandb\u001b[1;35m\u001b[0m\n",
      "\u001b[1;35m  orchestrator: \u001b[0m\u001b[1;36mdefault\u001b[1;35m\u001b[0m\n",
      "\u001b[1;35m  image_builder: \u001b[0m\u001b[1;36mlocal\u001b[1;35m\u001b[0m\n",
      "\u001b[1;35m  artifact_store: \u001b[0m\u001b[1;36ms3-zenfiles\u001b[1;35m\u001b[0m\n",
      "\u001b[1;35mStep \u001b[0m\u001b[1;36mdata_loader\u001b[1;35m has started.\u001b[0m\n",
      "\u001b[1;35mDataset with 28 records loaded!\u001b[0m\n",
      "\u001b[1;35mStep \u001b[0m\u001b[1;36mdata_loader\u001b[1;35m has finished in \u001b[0m\u001b[1;36m8.308s\u001b[1;35m.\u001b[0m\n",
      "\u001b[1;35mCaching \u001b[0m\u001b[1;36mdisabled\u001b[1;35m explicitly for \u001b[0m\u001b[1;36mdeploy_endpoint\u001b[1;35m.\u001b[0m\n",
      "\u001b[1;35mStep \u001b[0m\u001b[1;36mdeploy_endpoint\u001b[1;35m has started.\u001b[0m\n",
      "\u001b[1;35mFound credentials in shared credentials file: ~/.aws/credentials\u001b[0m\n",
      "\u001b[1;35mDefaulting to only available Python version: py3\u001b[0m\n",
      "\u001b[1;35mDefaulting to only supported image scope: cpu.\u001b[0m\n",
      "\u001b[1;35mCreating model with name: sagemaker-scikit-learn-2024-02-12-17-02-10-887\u001b[0m\n",
      "\u001b[1;35mCreating endpoint-config with name breast-cancer-classifier-2024-02-12-18-02-08-073179\u001b[0m\n",
      "\u001b[1;35mCreating endpoint with name breast-cancer-classifier-2024-02-12-18-02-08-073179\u001b[0m\n",
      "------!\u001b[1;35mStep \u001b[0m\u001b[1;36mdeploy_endpoint\u001b[1;35m has finished in \u001b[0m\u001b[1;36m3m30s\u001b[1;35m.\u001b[0m\n",
      "\u001b[1;35mStep \u001b[0m\u001b[1;36minference_preprocessor\u001b[1;35m has started.\u001b[0m\n",
      "\u001b[33mYour artifact was materialized under Python version 'unknown' but you are currently using '3.9.18'. This might cause unexpected behavior since pickle is not reproducible across Python versions. Attempting to load anyway...\u001b[0m\n",
      "\u001b[1;35mStep \u001b[0m\u001b[1;36minference_preprocessor\u001b[1;35m has finished in \u001b[0m\u001b[1;36m8.924s\u001b[1;35m.\u001b[0m\n",
      "\u001b[1;35mStep \u001b[0m\u001b[1;36mpredict_on_endpoint\u001b[1;35m has started.\u001b[0m\n",
      "\u001b[1;35mStep \u001b[0m\u001b[1;36mpredict_on_endpoint\u001b[1;35m has finished in \u001b[0m\u001b[1;36m8.131s\u001b[1;35m.\u001b[0m\n",
      "\u001b[1;35mStep \u001b[0m\u001b[1;36mshutdown_endpoint\u001b[1;35m has started.\u001b[0m\n",
      "\u001b[1;35mDeleting endpoint configuration with name: breast-cancer-classifier-2024-02-12-18-02-08-073179\u001b[0m\n",
      "\u001b[1;35mDeleting endpoint with name: breast-cancer-classifier-2024-02-12-18-02-08-073179\u001b[0m\n",
      "\u001b[1;35mStep \u001b[0m\u001b[1;36mshutdown_endpoint\u001b[1;35m has finished in \u001b[0m\u001b[1;36m4.997s\u001b[1;35m.\u001b[0m\n",
      "\u001b[1;35mPipeline run has finished in \u001b[0m\u001b[1;36m4m22s\u001b[1;35m.\u001b[0m\n",
      "\u001b[1;35mDashboard URL: https://1cf18d95-zenml.cloudinfra.zenml.io/workspaces/default/pipelines/78123cfe-960e-4f87-a971-3487aca76aea/runs/0db5aae1-8461-4b21-8ed0-8e8e5ae241d7/dag\u001b[0m\n"
     ]
    },
    {
     "data": {
      "text/plain": [
       "PipelineRunResponse(id=UUID('0db5aae1-8461-4b21-8ed0-8e8e5ae241d7'), permission_denied=False, body=PipelineRunResponseBody(created=datetime.datetime(2024, 2, 12, 17, 1, 45), updated=datetime.datetime(2024, 2, 12, 17, 1, 45), user=UserResponse(id=UUID('c915043d-706c-4885-9263-783cae8dad20'), permission_denied=False, body=UserResponseBody(created=datetime.datetime(2023, 11, 16, 16, 5, 33), updated=datetime.datetime(2024, 2, 12, 16, 13, 15), active=True, activation_token=None, full_name='Andrei', email_opted_in=True, is_service_account=False), metadata=None, name='andrei@zenml.io'), status=<ExecutionStatus.INITIALIZING: 'initializing'>, stack=StackResponse(id=UUID('5712467b-5ab0-4549-8bc9-2ea7714c8ed8'), permission_denied=False, body=StackResponseBody(created=datetime.datetime(2024, 1, 13, 12, 42, 57), updated=datetime.datetime(2024, 2, 8, 9, 59, 9), user=UserResponse(id=UUID('c6fcdcc8-69e1-4ff5-9eb2-6a53aa81a08b'), permission_denied=False, body=UserResponseBody(created=datetime.datetime(2023, 10, 24, 7, 36, 26), updated=datetime.datetime(2024, 2, 12, 12, 34, 58), active=True, activation_token=None, full_name='Hamza Tahir', email_opted_in=True, is_service_account=False), metadata=None, name='hamza@zenml.io')), metadata=None, name='local-sagemaker-step-operator-wandb'), pipeline=PipelineResponse(id=UUID('78123cfe-960e-4f87-a971-3487aca76aea'), permission_denied=False, body=PipelineResponseBody(created=datetime.datetime(2024, 2, 12, 16, 49, 51), updated=datetime.datetime(2024, 2, 12, 16, 49, 51), user=UserResponse(id=UUID('c915043d-706c-4885-9263-783cae8dad20'), permission_denied=False, body=UserResponseBody(created=datetime.datetime(2023, 11, 16, 16, 5, 33), updated=datetime.datetime(2024, 2, 12, 16, 13, 15), active=True, activation_token=None, full_name='Andrei', email_opted_in=True, is_service_account=False), metadata=None, name='andrei@zenml.io'), status=[<ExecutionStatus.INITIALIZING: 'initializing'>, <ExecutionStatus.FAILED: 'failed'>, <ExecutionStatus.FAILED: 'failed'>], version='5'), metadata=None, name='deploy'), build=None, schedule=None, code_reference=None), metadata=PipelineRunResponseMetadata(workspace=WorkspaceResponse(id=UUID('f3a544f2-afb5-4672-934a-7a465c66201c'), permission_denied=False, body=WorkspaceResponseBody(created=datetime.datetime(2023, 10, 23, 15, 34, 47), updated=datetime.datetime(2023, 10, 23, 15, 34, 47)), metadata=None, name='default'), run_metadata={}, steps={}, config=PipelineConfiguration(enable_cache=None, enable_artifact_metadata=None, enable_artifact_visualization=None, enable_step_logs=None, settings={'step_operator.sagemaker': BaseSettings(), 'experiment_tracker.wandb': BaseSettings()}, extra={}, failure_hook_source=None, success_hook_source=None, model=Model(name='breast_cancer_classifier', license=None, description=None, audience=None, use_cases=None, limitations=None, trade_offs=None, ethics=None, tags=None, version='19', save_models_to_registry=True, suppress_class_validation_warnings=True, was_created_in_this_run=False), parameters=None, name='deploy'), start_time=datetime.datetime(2024, 2, 12, 17, 1, 45), end_time=None, client_environment={'environment': 'notebook', 'os': 'mac', 'mac_version': '14.0', 'python_version': '3.9.18'}, orchestrator_environment={}, orchestrator_run_id=None), name='deploy-2024_02_12-17_01_45_119323')"
      ]
     },
     "execution_count": 112,
     "metadata": {},
     "output_type": "execute_result"
    }
   ],
   "source": [
    "deploy.with_options(\n",
    "    model=Model(name=\"breast_cancer_classifier\", version=\"19\")\n",
    ")()"
   ]
  },
  {
   "cell_type": "code",
   "execution_count": null,
   "id": "c9e5fc22",
   "metadata": {},
   "outputs": [],
   "source": []
  }
 ],
 "metadata": {
  "kernelspec": {
   "display_name": "Python 3 (ipykernel)",
   "language": "python",
   "name": "python3"
  },
  "language_info": {
   "codemirror_mode": {
    "name": "ipython",
    "version": 3
   },
   "file_extension": ".py",
   "mimetype": "text/x-python",
   "name": "python",
   "nbconvert_exporter": "python",
   "pygments_lexer": "ipython3",
   "version": "3.9.18"
  }
 },
 "nbformat": 4,
 "nbformat_minor": 5
}
