{
 "cells": [
  {
   "cell_type": "markdown",
   "id": "63ab391a",
   "metadata": {},
   "source": [
    "# 🌍 Overview\n",
    "\n",
    "This demo is a minimalistic MLOps project intended to showcase how to put ML workflows in production. It features: \n",
    "\n",
    "- A feature engineering pipeline that loads data and prepares it for training.\n",
    "- A training pipeline that loads the preprocessed dataset and trains a model.\n",
    "- A batch inference pipeline that runs predictions on the trained model with new data.\n",
    "- A stack switching and leveraging of Sagemaker step operator to outsource training to Cloud\n",
    "- An analysis of training artifacts and their lineage (including connection with W&B)\n",
    "\n",
    "<img src=\"_assets/pipeline_overview.png\" width=\"50%\" alt=\"Pipelines Overview\">"
   ]
  },
  {
   "cell_type": "markdown",
   "id": "66b2977c",
   "metadata": {},
   "source": [
    "# 👶 Step 0. Install Requirements\n",
    "\n",
    "Let's install ZenML to get started. First we'll install the latest version of\n",
    "ZenML as well as the `sklearn` and `xgboost` integration of ZenML:"
   ]
  },
  {
   "cell_type": "code",
   "execution_count": null,
   "id": "f76f562e",
   "metadata": {},
   "outputs": [],
   "source": [
    "! pip3 install -r requirements.txt\n",
    "! zenml integration install sklearn xgboost -y\n",
    "! zenml connect --url https://1cf18d95-zenml.cloudinfra.zenml.io \n",
    "! zenml model delete breast_cancer_classifier -y\n",
    "\n",
    "import IPython\n",
    "IPython.Application.instance().kernel.do_shutdown(restart=True)"
   ]
  },
  {
   "cell_type": "code",
   "execution_count": 3,
   "id": "081d5616",
   "metadata": {},
   "outputs": [
    {
     "name": "stdout",
     "output_type": "stream",
     "text": [
      "\u001b[?25l\u001b[2;36mFound existing ZenML repository at path \u001b[0m\n",
      "\u001b[2;32m'/home/htahir1/workspace/zenml_io/zenml-projects/classifier-e2e'\u001b[0m\u001b[2;36m.\u001b[0m\n",
      "\u001b[2;32m⠋\u001b[0m\u001b[2;36m Initializing ZenML repository at \u001b[0m\n",
      "\u001b[2;36m/home/htahir1/workspace/zenml_io/zenml-projects/classifier-e2e.\u001b[0m\n",
      "\u001b[2K\u001b[1A\u001b[2K\u001b[1A\u001b[2K\u001b[32m⠋\u001b[0m Initializing ZenML repository at \n",
      "/home/htahir1/workspace/zenml_io/zenml-projects/classifier-e2e.\n",
      "\n",
      "\u001b[1A\u001b[2K\u001b[1A\u001b[2K\u001b[1A\u001b[2K\u001b[?25l\u001b[32m⠋\u001b[0m Setting the repository active stack to \n",
      "\u001b[2K\u001b[1A\u001b[2K\u001b[2;36mActive repository stack set to: \u001b[0m\u001b[2;32m'local-sagemaker-step-operator-wandb'\u001b[0m\n",
      "\u001b[2;32m⠋\u001b[0m\u001b[2;36m Setting the repository active stack to \u001b[0m\n",
      "\u001b[2K\u001b[1A\u001b[2K\u001b[32m⠋\u001b[0m Setting the repository active stack to \n",
      "'local-sagemaker-step-operator-wandb'...\n",
      "\u001b[1A\u001b[2K\u001b[1A\u001b[2K"
     ]
    }
   ],
   "source": [
    "# Initialize ZenML and set the default stack\n",
    "!zenml init\n",
    "!zenml stack set local-sagemaker-step-operator-wandb"
   ]
  },
  {
   "cell_type": "code",
   "execution_count": 2,
   "id": "79f775f2",
   "metadata": {},
   "outputs": [],
   "source": [
    "# Do the imports at the top\n",
    "from zenml import Model\n",
    "from zenml.client import Client\n",
    "from zenml.logger import get_logger\n",
    "\n",
    "from pipelines import training, inference\n",
    "\n",
    "logger = get_logger(__name__)\n",
    "\n",
    "# Initialize the ZenML client to fetch objects from the ZenML Server\n",
    "client = Client()"
   ]
  },
  {
   "cell_type": "markdown",
   "id": "8c28b474",
   "metadata": {},
   "source": [
    "# ⌚ Step 1: Training pipeline"
   ]
  },
  {
   "cell_type": "markdown",
   "id": "87909827",
   "metadata": {},
   "source": [
    "Now that we have our data it makes sense to train some models to get a sense of\n",
    "how difficult the task is. The Breast Cancer dataset is sufficiently large and complex \n",
    "that it's unlikely we'll be able to train a model that behaves perfectly since the problem \n",
    "is inherently complex, but we can get a sense of what a reasonable baseline looks like.\n",
    "\n",
    "We'll start with two simple models, a SGD Classifier and a Random Forest\n",
    "Classifier, both batteries-included from `sklearn`. We'll train them both on the\n",
    "same data and then compare their performance.\n",
    "\n",
    "<img src=\"_assets/cloud_mcp.png\" width=\"60%\" alt=\"Model Control Plane\">"
   ]
  },
  {
   "cell_type": "code",
   "execution_count": 4,
   "id": "dc08aecc",
   "metadata": {},
   "outputs": [
    {
     "data": {
      "text/plain": [
       "\u001b[0;31m# Apache Software License 2.0\u001b[0m\u001b[0;34m\u001b[0m\n",
       "\u001b[0;34m\u001b[0m\u001b[0;31m#\u001b[0m\u001b[0;34m\u001b[0m\n",
       "\u001b[0;34m\u001b[0m\u001b[0;31m# Copyright (c) ZenML GmbH 2024. All rights reserved.\u001b[0m\u001b[0;34m\u001b[0m\n",
       "\u001b[0;34m\u001b[0m\u001b[0;31m#\u001b[0m\u001b[0;34m\u001b[0m\n",
       "\u001b[0;34m\u001b[0m\u001b[0;31m# Licensed under the Apache License, Version 2.0 (the \"License\");\u001b[0m\u001b[0;34m\u001b[0m\n",
       "\u001b[0;34m\u001b[0m\u001b[0;31m# you may not use this file except in compliance with the License.\u001b[0m\u001b[0;34m\u001b[0m\n",
       "\u001b[0;34m\u001b[0m\u001b[0;31m# You may obtain a copy of the License at\u001b[0m\u001b[0;34m\u001b[0m\n",
       "\u001b[0;34m\u001b[0m\u001b[0;31m#\u001b[0m\u001b[0;34m\u001b[0m\n",
       "\u001b[0;34m\u001b[0m\u001b[0;31m# http://www.apache.org/licenses/LICENSE-2.0\u001b[0m\u001b[0;34m\u001b[0m\n",
       "\u001b[0;34m\u001b[0m\u001b[0;31m#\u001b[0m\u001b[0;34m\u001b[0m\n",
       "\u001b[0;34m\u001b[0m\u001b[0;31m# Unless required by applicable law or agreed to in writing, software\u001b[0m\u001b[0;34m\u001b[0m\n",
       "\u001b[0;34m\u001b[0m\u001b[0;31m# distributed under the License is distributed on an \"AS IS\" BASIS,\u001b[0m\u001b[0;34m\u001b[0m\n",
       "\u001b[0;34m\u001b[0m\u001b[0;31m# WITHOUT WARRANTIES OR CONDITIONS OF ANY KIND, either express or implied.\u001b[0m\u001b[0;34m\u001b[0m\n",
       "\u001b[0;34m\u001b[0m\u001b[0;31m# See the License for the specific language governing permissions and\u001b[0m\u001b[0;34m\u001b[0m\n",
       "\u001b[0;34m\u001b[0m\u001b[0;31m# limitations under the License.\u001b[0m\u001b[0;34m\u001b[0m\n",
       "\u001b[0;34m\u001b[0m\u001b[0;31m#\u001b[0m\u001b[0;34m\u001b[0m\n",
       "\u001b[0;34m\u001b[0m\u001b[0;34m\u001b[0m\n",
       "\u001b[0;34m\u001b[0m\u001b[0;32mfrom\u001b[0m \u001b[0mtyping\u001b[0m \u001b[0;32mimport\u001b[0m \u001b[0mOptional\u001b[0m\u001b[0;34m\u001b[0m\n",
       "\u001b[0;34m\u001b[0m\u001b[0;34m\u001b[0m\n",
       "\u001b[0;34m\u001b[0m\u001b[0;32mimport\u001b[0m \u001b[0mpandas\u001b[0m \u001b[0;32mas\u001b[0m \u001b[0mpd\u001b[0m\u001b[0;34m\u001b[0m\n",
       "\u001b[0;34m\u001b[0m\u001b[0;32mfrom\u001b[0m \u001b[0msklearn\u001b[0m\u001b[0;34m.\u001b[0m\u001b[0mbase\u001b[0m \u001b[0;32mimport\u001b[0m \u001b[0mClassifierMixin\u001b[0m\u001b[0;34m\u001b[0m\n",
       "\u001b[0;34m\u001b[0m\u001b[0;32mfrom\u001b[0m \u001b[0msklearn\u001b[0m\u001b[0;34m.\u001b[0m\u001b[0mlinear_model\u001b[0m \u001b[0;32mimport\u001b[0m \u001b[0mSGDClassifier\u001b[0m\u001b[0;34m\u001b[0m\n",
       "\u001b[0;34m\u001b[0m\u001b[0;32mfrom\u001b[0m \u001b[0mtyping_extensions\u001b[0m \u001b[0;32mimport\u001b[0m \u001b[0mAnnotated\u001b[0m\u001b[0;34m\u001b[0m\n",
       "\u001b[0;34m\u001b[0m\u001b[0;34m\u001b[0m\n",
       "\u001b[0;34m\u001b[0m\u001b[0;32mfrom\u001b[0m \u001b[0mzenml\u001b[0m \u001b[0;32mimport\u001b[0m \u001b[0mArtifactConfig\u001b[0m\u001b[0;34m,\u001b[0m \u001b[0mstep\u001b[0m\u001b[0;34m\u001b[0m\n",
       "\u001b[0;34m\u001b[0m\u001b[0;32mfrom\u001b[0m \u001b[0mzenml\u001b[0m\u001b[0;34m.\u001b[0m\u001b[0mlogger\u001b[0m \u001b[0;32mimport\u001b[0m \u001b[0mget_logger\u001b[0m\u001b[0;34m\u001b[0m\n",
       "\u001b[0;34m\u001b[0m\u001b[0;32mfrom\u001b[0m \u001b[0mzenml\u001b[0m\u001b[0;34m.\u001b[0m\u001b[0mclient\u001b[0m \u001b[0;32mimport\u001b[0m \u001b[0mClient\u001b[0m\u001b[0;34m\u001b[0m\n",
       "\u001b[0;34m\u001b[0m\u001b[0;34m\u001b[0m\n",
       "\u001b[0;34m\u001b[0m\u001b[0mlogger\u001b[0m \u001b[0;34m=\u001b[0m \u001b[0mget_logger\u001b[0m\u001b[0;34m(\u001b[0m\u001b[0m__name__\u001b[0m\u001b[0;34m)\u001b[0m\u001b[0;34m\u001b[0m\n",
       "\u001b[0;34m\u001b[0m\u001b[0;34m\u001b[0m\n",
       "\u001b[0;34m\u001b[0m\u001b[0met\u001b[0m \u001b[0;34m=\u001b[0m \u001b[0mClient\u001b[0m\u001b[0;34m(\u001b[0m\u001b[0;34m)\u001b[0m\u001b[0;34m.\u001b[0m\u001b[0mactive_stack\u001b[0m\u001b[0;34m.\u001b[0m\u001b[0mexperiment_tracker\u001b[0m\u001b[0;34m\u001b[0m\n",
       "\u001b[0;34m\u001b[0m\u001b[0;34m\u001b[0m\n",
       "\u001b[0;34m\u001b[0m\u001b[0;34m\u001b[0m\n",
       "\u001b[0;34m\u001b[0m\u001b[0;34m@\u001b[0m\u001b[0mstep\u001b[0m\u001b[0;34m(\u001b[0m\u001b[0mexperiment_tracker\u001b[0m\u001b[0;34m=\u001b[0m\u001b[0met\u001b[0m\u001b[0;34m.\u001b[0m\u001b[0mname\u001b[0m\u001b[0;34m)\u001b[0m\u001b[0;34m\u001b[0m\n",
       "\u001b[0;34m\u001b[0m\u001b[0;32mdef\u001b[0m \u001b[0mmodel_trainer\u001b[0m\u001b[0;34m(\u001b[0m\u001b[0;34m\u001b[0m\n",
       "\u001b[0;34m\u001b[0m    \u001b[0mdataset_trn\u001b[0m\u001b[0;34m:\u001b[0m \u001b[0mpd\u001b[0m\u001b[0;34m.\u001b[0m\u001b[0mDataFrame\u001b[0m\u001b[0;34m,\u001b[0m\u001b[0;34m\u001b[0m\n",
       "\u001b[0;34m\u001b[0m    \u001b[0mmodel_type\u001b[0m\u001b[0;34m:\u001b[0m \u001b[0mstr\u001b[0m \u001b[0;34m=\u001b[0m \u001b[0;34m\"sgd\"\u001b[0m\u001b[0;34m,\u001b[0m\u001b[0;34m\u001b[0m\n",
       "\u001b[0;34m\u001b[0m    \u001b[0mtarget\u001b[0m\u001b[0;34m:\u001b[0m \u001b[0mOptional\u001b[0m\u001b[0;34m[\u001b[0m\u001b[0mstr\u001b[0m\u001b[0;34m]\u001b[0m \u001b[0;34m=\u001b[0m \u001b[0;34m\"target\"\u001b[0m\u001b[0;34m,\u001b[0m\u001b[0;34m\u001b[0m\n",
       "\u001b[0;34m\u001b[0m\u001b[0;34m)\u001b[0m \u001b[0;34m->\u001b[0m \u001b[0mAnnotated\u001b[0m\u001b[0;34m[\u001b[0m\u001b[0;34m\u001b[0m\n",
       "\u001b[0;34m\u001b[0m    \u001b[0mClassifierMixin\u001b[0m\u001b[0;34m,\u001b[0m\u001b[0;34m\u001b[0m\n",
       "\u001b[0;34m\u001b[0m    \u001b[0mArtifactConfig\u001b[0m\u001b[0;34m(\u001b[0m\u001b[0mname\u001b[0m\u001b[0;34m=\u001b[0m\u001b[0;34m\"breast_cancer_classifier\"\u001b[0m\u001b[0;34m,\u001b[0m \u001b[0mis_model_artifact\u001b[0m\u001b[0;34m=\u001b[0m\u001b[0;32mTrue\u001b[0m\u001b[0;34m)\u001b[0m\u001b[0;34m,\u001b[0m\u001b[0;34m\u001b[0m\n",
       "\u001b[0;34m\u001b[0m\u001b[0;34m]\u001b[0m\u001b[0;34m:\u001b[0m\u001b[0;34m\u001b[0m\n",
       "\u001b[0;34m\u001b[0m    \u001b[0;34m\"\"\"Configure and train a model on the training dataset.\u001b[0m\n",
       "\u001b[0;34m\u001b[0m\n",
       "\u001b[0;34m    This is an example of a model training step that takes in a dataset artifact\u001b[0m\n",
       "\u001b[0;34m    previously loaded and pre-processed by other steps in your pipeline, then\u001b[0m\n",
       "\u001b[0;34m    configures and trains a model on it. The model is then returned as a step\u001b[0m\n",
       "\u001b[0;34m    output artifact.\u001b[0m\n",
       "\u001b[0;34m\u001b[0m\n",
       "\u001b[0;34m    Args:\u001b[0m\n",
       "\u001b[0;34m        dataset_trn: The preprocessed train dataset.\u001b[0m\n",
       "\u001b[0;34m        model_type: The type of model to train.\u001b[0m\n",
       "\u001b[0;34m        target: The name of the target column in the dataset.\u001b[0m\n",
       "\u001b[0;34m\u001b[0m\n",
       "\u001b[0;34m    Returns:\u001b[0m\n",
       "\u001b[0;34m        The trained model artifact.\u001b[0m\n",
       "\u001b[0;34m\u001b[0m\n",
       "\u001b[0;34m    Raises:\u001b[0m\n",
       "\u001b[0;34m        ValueError: If the model type is not supported.\u001b[0m\n",
       "\u001b[0;34m    \"\"\"\u001b[0m\u001b[0;34m\u001b[0m\n",
       "\u001b[0;34m\u001b[0m    \u001b[0;31m# Initialize the model with the hyperparameters indicated in the step\u001b[0m\u001b[0;34m\u001b[0m\n",
       "\u001b[0;34m\u001b[0m    \u001b[0;31m# parameters and train it on the training set.\u001b[0m\u001b[0;34m\u001b[0m\n",
       "\u001b[0;34m\u001b[0m    \u001b[0;32mif\u001b[0m \u001b[0mmodel_type\u001b[0m \u001b[0;34m==\u001b[0m \u001b[0;34m\"sgd\"\u001b[0m\u001b[0;34m:\u001b[0m\u001b[0;34m\u001b[0m\n",
       "\u001b[0;34m\u001b[0m        \u001b[0mmodel\u001b[0m \u001b[0;34m=\u001b[0m \u001b[0mSGDClassifier\u001b[0m\u001b[0;34m(\u001b[0m\u001b[0;34m)\u001b[0m\u001b[0;34m\u001b[0m\n",
       "\u001b[0;34m\u001b[0m    \u001b[0;32melif\u001b[0m \u001b[0mmodel_type\u001b[0m \u001b[0;34m==\u001b[0m \u001b[0;34m\"xgboost\"\u001b[0m\u001b[0;34m:\u001b[0m\u001b[0;34m\u001b[0m\n",
       "\u001b[0;34m\u001b[0m        \u001b[0;32mfrom\u001b[0m \u001b[0mxgboost\u001b[0m \u001b[0;32mimport\u001b[0m \u001b[0mXGBClassifier\u001b[0m\u001b[0;34m\u001b[0m\n",
       "\u001b[0;34m\u001b[0m\u001b[0;34m\u001b[0m\n",
       "\u001b[0;34m\u001b[0m        \u001b[0mmodel\u001b[0m \u001b[0;34m=\u001b[0m \u001b[0mXGBClassifier\u001b[0m\u001b[0;34m(\u001b[0m\u001b[0;34m)\u001b[0m\u001b[0;34m\u001b[0m\n",
       "\u001b[0;34m\u001b[0m    \u001b[0;32melse\u001b[0m\u001b[0;34m:\u001b[0m\u001b[0;34m\u001b[0m\n",
       "\u001b[0;34m\u001b[0m        \u001b[0;32mraise\u001b[0m \u001b[0mValueError\u001b[0m\u001b[0;34m(\u001b[0m\u001b[0;34mf\"Unknown model type {model_type}\"\u001b[0m\u001b[0;34m)\u001b[0m\u001b[0;34m\u001b[0m\n",
       "\u001b[0;34m\u001b[0m    \u001b[0mlogger\u001b[0m\u001b[0;34m.\u001b[0m\u001b[0minfo\u001b[0m\u001b[0;34m(\u001b[0m\u001b[0;34mf\"Training model {model}...\"\u001b[0m\u001b[0;34m)\u001b[0m\u001b[0;34m\u001b[0m\n",
       "\u001b[0;34m\u001b[0m\u001b[0;34m\u001b[0m\n",
       "\u001b[0;34m\u001b[0m    \u001b[0mmodel\u001b[0m\u001b[0;34m.\u001b[0m\u001b[0mfit\u001b[0m\u001b[0;34m(\u001b[0m\u001b[0;34m\u001b[0m\n",
       "\u001b[0;34m\u001b[0m        \u001b[0mdataset_trn\u001b[0m\u001b[0;34m.\u001b[0m\u001b[0mdrop\u001b[0m\u001b[0;34m(\u001b[0m\u001b[0mcolumns\u001b[0m\u001b[0;34m=\u001b[0m\u001b[0;34m[\u001b[0m\u001b[0mtarget\u001b[0m\u001b[0;34m]\u001b[0m\u001b[0;34m)\u001b[0m\u001b[0;34m,\u001b[0m\u001b[0;34m\u001b[0m\n",
       "\u001b[0;34m\u001b[0m        \u001b[0mdataset_trn\u001b[0m\u001b[0;34m[\u001b[0m\u001b[0mtarget\u001b[0m\u001b[0;34m]\u001b[0m\u001b[0;34m,\u001b[0m\u001b[0;34m\u001b[0m\n",
       "\u001b[0;34m\u001b[0m    \u001b[0;34m)\u001b[0m\u001b[0;34m\u001b[0m\n",
       "\u001b[0;34m\u001b[0m    \u001b[0;32mreturn\u001b[0m \u001b[0mmodel\u001b[0m\u001b[0;34m\u001b[0m\u001b[0;34m\u001b[0m\u001b[0m\n"
      ]
     },
     "metadata": {},
     "output_type": "display_data"
    }
   ],
   "source": [
    "# let's have a look at model training step\n",
    "%pycat steps/model_trainer.py"
   ]
  },
  {
   "cell_type": "markdown",
   "id": "73a00008",
   "metadata": {},
   "source": [
    "Our two training steps both return different kinds of classifier\n",
    "models, so we use the generic `ClassifierMixin` type hint for the return type."
   ]
  },
  {
   "cell_type": "markdown",
   "id": "a5f22174",
   "metadata": {},
   "source": [
    "ZenML allows you to load any version of any dataset that is tracked by the framework\n",
    "directly into a pipeline using the `Client().get_artifact_version` interface. This is very convenient\n",
    "in this case, as we'd like to send our preprocessed dataset from the older pipeline directly\n",
    "into the training pipeline."
   ]
  },
  {
   "cell_type": "code",
   "execution_count": 5,
   "id": "01162d23",
   "metadata": {},
   "outputs": [
    {
     "data": {
      "text/plain": [
       "\u001b[0;31m# Apache Software License 2.0\u001b[0m\u001b[0;34m\u001b[0m\n",
       "\u001b[0;34m\u001b[0m\u001b[0;31m#\u001b[0m\u001b[0;34m\u001b[0m\n",
       "\u001b[0;34m\u001b[0m\u001b[0;31m# Copyright (c) ZenML GmbH 2024. All rights reserved.\u001b[0m\u001b[0;34m\u001b[0m\n",
       "\u001b[0;34m\u001b[0m\u001b[0;31m#\u001b[0m\u001b[0;34m\u001b[0m\n",
       "\u001b[0;34m\u001b[0m\u001b[0;31m# Licensed under the Apache License, Version 2.0 (the \"License\");\u001b[0m\u001b[0;34m\u001b[0m\n",
       "\u001b[0;34m\u001b[0m\u001b[0;31m# you may not use this file except in compliance with the License.\u001b[0m\u001b[0;34m\u001b[0m\n",
       "\u001b[0;34m\u001b[0m\u001b[0;31m# You may obtain a copy of the License at\u001b[0m\u001b[0;34m\u001b[0m\n",
       "\u001b[0;34m\u001b[0m\u001b[0;31m#\u001b[0m\u001b[0;34m\u001b[0m\n",
       "\u001b[0;34m\u001b[0m\u001b[0;31m# http://www.apache.org/licenses/LICENSE-2.0\u001b[0m\u001b[0;34m\u001b[0m\n",
       "\u001b[0;34m\u001b[0m\u001b[0;31m#\u001b[0m\u001b[0;34m\u001b[0m\n",
       "\u001b[0;34m\u001b[0m\u001b[0;31m# Unless required by applicable law or agreed to in writing, software\u001b[0m\u001b[0;34m\u001b[0m\n",
       "\u001b[0;34m\u001b[0m\u001b[0;31m# distributed under the License is distributed on an \"AS IS\" BASIS,\u001b[0m\u001b[0;34m\u001b[0m\n",
       "\u001b[0;34m\u001b[0m\u001b[0;31m# WITHOUT WARRANTIES OR CONDITIONS OF ANY KIND, either express or implied.\u001b[0m\u001b[0;34m\u001b[0m\n",
       "\u001b[0;34m\u001b[0m\u001b[0;31m# See the License for the specific language governing permissions and\u001b[0m\u001b[0;34m\u001b[0m\n",
       "\u001b[0;34m\u001b[0m\u001b[0;31m# limitations under the License.\u001b[0m\u001b[0;34m\u001b[0m\n",
       "\u001b[0;34m\u001b[0m\u001b[0;31m#\u001b[0m\u001b[0;34m\u001b[0m\n",
       "\u001b[0;34m\u001b[0m\u001b[0;34m\u001b[0m\n",
       "\u001b[0;34m\u001b[0m\u001b[0;32mfrom\u001b[0m \u001b[0mtyping\u001b[0m \u001b[0;32mimport\u001b[0m \u001b[0mOptional\u001b[0m\u001b[0;34m\u001b[0m\n",
       "\u001b[0;34m\u001b[0m\u001b[0;32mfrom\u001b[0m \u001b[0muuid\u001b[0m \u001b[0;32mimport\u001b[0m \u001b[0mUUID\u001b[0m\u001b[0;34m\u001b[0m\n",
       "\u001b[0;34m\u001b[0m\u001b[0;34m\u001b[0m\n",
       "\u001b[0;34m\u001b[0m\u001b[0;32mfrom\u001b[0m \u001b[0msteps\u001b[0m \u001b[0;32mimport\u001b[0m \u001b[0mmodel_evaluator\u001b[0m\u001b[0;34m,\u001b[0m \u001b[0mmodel_promoter\u001b[0m\u001b[0;34m,\u001b[0m \u001b[0mmodel_trainer\u001b[0m\u001b[0;34m\u001b[0m\n",
       "\u001b[0;34m\u001b[0m\u001b[0;34m\u001b[0m\n",
       "\u001b[0;34m\u001b[0m\u001b[0;32mfrom\u001b[0m \u001b[0mpipelines\u001b[0m \u001b[0;32mimport\u001b[0m \u001b[0;34m(\u001b[0m\u001b[0;34m\u001b[0m\n",
       "\u001b[0;34m\u001b[0m    \u001b[0mfeature_engineering\u001b[0m\u001b[0;34m,\u001b[0m\u001b[0;34m\u001b[0m\n",
       "\u001b[0;34m\u001b[0m\u001b[0;34m)\u001b[0m\u001b[0;34m\u001b[0m\n",
       "\u001b[0;34m\u001b[0m\u001b[0;32mfrom\u001b[0m \u001b[0mzenml\u001b[0m \u001b[0;32mimport\u001b[0m \u001b[0mpipeline\u001b[0m\u001b[0;34m\u001b[0m\n",
       "\u001b[0;34m\u001b[0m\u001b[0;32mfrom\u001b[0m \u001b[0mzenml\u001b[0m\u001b[0;34m.\u001b[0m\u001b[0mclient\u001b[0m \u001b[0;32mimport\u001b[0m \u001b[0mClient\u001b[0m\u001b[0;34m\u001b[0m\n",
       "\u001b[0;34m\u001b[0m\u001b[0;32mfrom\u001b[0m \u001b[0mzenml\u001b[0m\u001b[0;34m.\u001b[0m\u001b[0mlogger\u001b[0m \u001b[0;32mimport\u001b[0m \u001b[0mget_logger\u001b[0m\u001b[0;34m\u001b[0m\n",
       "\u001b[0;34m\u001b[0m\u001b[0;34m\u001b[0m\n",
       "\u001b[0;34m\u001b[0m\u001b[0mlogger\u001b[0m \u001b[0;34m=\u001b[0m \u001b[0mget_logger\u001b[0m\u001b[0;34m(\u001b[0m\u001b[0m__name__\u001b[0m\u001b[0;34m)\u001b[0m\u001b[0;34m\u001b[0m\n",
       "\u001b[0;34m\u001b[0m\u001b[0;34m\u001b[0m\n",
       "\u001b[0;34m\u001b[0m\u001b[0;34m\u001b[0m\n",
       "\u001b[0;34m\u001b[0m\u001b[0;34m@\u001b[0m\u001b[0mpipeline\u001b[0m\u001b[0;34m\u001b[0m\n",
       "\u001b[0;34m\u001b[0m\u001b[0;32mdef\u001b[0m \u001b[0mtraining\u001b[0m\u001b[0;34m(\u001b[0m\u001b[0;34m\u001b[0m\n",
       "\u001b[0;34m\u001b[0m    \u001b[0mtrain_dataset_id\u001b[0m\u001b[0;34m:\u001b[0m \u001b[0mOptional\u001b[0m\u001b[0;34m[\u001b[0m\u001b[0mUUID\u001b[0m\u001b[0;34m]\u001b[0m \u001b[0;34m=\u001b[0m \u001b[0;32mNone\u001b[0m\u001b[0;34m,\u001b[0m\u001b[0;34m\u001b[0m\n",
       "\u001b[0;34m\u001b[0m    \u001b[0mtest_dataset_id\u001b[0m\u001b[0;34m:\u001b[0m \u001b[0mOptional\u001b[0m\u001b[0;34m[\u001b[0m\u001b[0mUUID\u001b[0m\u001b[0;34m]\u001b[0m \u001b[0;34m=\u001b[0m \u001b[0;32mNone\u001b[0m\u001b[0;34m,\u001b[0m\u001b[0;34m\u001b[0m\n",
       "\u001b[0;34m\u001b[0m    \u001b[0mtarget\u001b[0m\u001b[0;34m:\u001b[0m \u001b[0mOptional\u001b[0m\u001b[0;34m[\u001b[0m\u001b[0mstr\u001b[0m\u001b[0;34m]\u001b[0m \u001b[0;34m=\u001b[0m \u001b[0;34m\"target\"\u001b[0m\u001b[0;34m,\u001b[0m\u001b[0;34m\u001b[0m\n",
       "\u001b[0;34m\u001b[0m    \u001b[0mmodel_type\u001b[0m\u001b[0;34m:\u001b[0m \u001b[0mOptional\u001b[0m\u001b[0;34m[\u001b[0m\u001b[0mstr\u001b[0m\u001b[0;34m]\u001b[0m \u001b[0;34m=\u001b[0m \u001b[0;34m\"sgd\"\u001b[0m\u001b[0;34m,\u001b[0m\u001b[0;34m\u001b[0m\n",
       "\u001b[0;34m\u001b[0m    \u001b[0mrandom_state\u001b[0m\u001b[0;34m:\u001b[0m \u001b[0mint\u001b[0m \u001b[0;34m=\u001b[0m \u001b[0;32mNone\u001b[0m\u001b[0;34m,\u001b[0m\u001b[0;34m\u001b[0m\n",
       "\u001b[0;34m\u001b[0m\u001b[0;34m)\u001b[0m\u001b[0;34m:\u001b[0m\u001b[0;34m\u001b[0m\n",
       "\u001b[0;34m\u001b[0m    \u001b[0;34m\"\"\"\u001b[0m\n",
       "\u001b[0;34m    Model training pipeline.\u001b[0m\n",
       "\u001b[0;34m\u001b[0m\n",
       "\u001b[0;34m    This is a pipeline that loads the data from a preprocessing pipeline,\u001b[0m\n",
       "\u001b[0;34m    trains a model on it and evaluates the model. If it is the first model\u001b[0m\n",
       "\u001b[0;34m    to be trained, it will be promoted to production. If not, it will be\u001b[0m\n",
       "\u001b[0;34m    promoted only if it has a higher accuracy than the current production\u001b[0m\n",
       "\u001b[0;34m    model version.\u001b[0m\n",
       "\u001b[0;34m\u001b[0m\n",
       "\u001b[0;34m    Args:\u001b[0m\n",
       "\u001b[0;34m        train_dataset_id: ID of the train dataset produced by feature engineering.\u001b[0m\n",
       "\u001b[0;34m        test_dataset_id: ID of the test dataset produced by feature engineering.\u001b[0m\n",
       "\u001b[0;34m        target: Name of target column in dataset.\u001b[0m\n",
       "\u001b[0;34m        model_type: The type of model to train.\u001b[0m\n",
       "\u001b[0;34m    \"\"\"\u001b[0m\u001b[0;34m\u001b[0m\n",
       "\u001b[0;34m\u001b[0m    \u001b[0;31m# Link all the steps together by calling them and passing the output\u001b[0m\u001b[0;34m\u001b[0m\n",
       "\u001b[0;34m\u001b[0m    \u001b[0;31m# of one step as the input of the next step.\u001b[0m\u001b[0;34m\u001b[0m\n",
       "\u001b[0;34m\u001b[0m\u001b[0;34m\u001b[0m\n",
       "\u001b[0;34m\u001b[0m    \u001b[0;31m# Execute Feature Engineering Pipeline\u001b[0m\u001b[0;34m\u001b[0m\n",
       "\u001b[0;34m\u001b[0m    \u001b[0;32mif\u001b[0m \u001b[0mtrain_dataset_id\u001b[0m \u001b[0;32mis\u001b[0m \u001b[0;32mNone\u001b[0m \u001b[0;32mor\u001b[0m \u001b[0mtest_dataset_id\u001b[0m \u001b[0;32mis\u001b[0m \u001b[0;32mNone\u001b[0m\u001b[0;34m:\u001b[0m\u001b[0;34m\u001b[0m\n",
       "\u001b[0;34m\u001b[0m        \u001b[0mdataset_trn\u001b[0m\u001b[0;34m,\u001b[0m \u001b[0mdataset_tst\u001b[0m \u001b[0;34m=\u001b[0m \u001b[0mfeature_engineering\u001b[0m\u001b[0;34m(\u001b[0m\u001b[0mrandom_state\u001b[0m\u001b[0;34m=\u001b[0m\u001b[0mrandom_state\u001b[0m\u001b[0;34m)\u001b[0m\u001b[0;34m\u001b[0m\n",
       "\u001b[0;34m\u001b[0m    \u001b[0;32melse\u001b[0m\u001b[0;34m:\u001b[0m\u001b[0;34m\u001b[0m\n",
       "\u001b[0;34m\u001b[0m        \u001b[0mclient\u001b[0m \u001b[0;34m=\u001b[0m \u001b[0mClient\u001b[0m\u001b[0;34m(\u001b[0m\u001b[0;34m)\u001b[0m\u001b[0;34m\u001b[0m\n",
       "\u001b[0;34m\u001b[0m        \u001b[0mdataset_trn\u001b[0m \u001b[0;34m=\u001b[0m \u001b[0mclient\u001b[0m\u001b[0;34m.\u001b[0m\u001b[0mget_artifact_version\u001b[0m\u001b[0;34m(\u001b[0m\u001b[0;34m\u001b[0m\n",
       "\u001b[0;34m\u001b[0m            \u001b[0mname_id_or_prefix\u001b[0m\u001b[0;34m=\u001b[0m\u001b[0mtrain_dataset_id\u001b[0m\u001b[0;34m\u001b[0m\n",
       "\u001b[0;34m\u001b[0m        \u001b[0;34m)\u001b[0m\u001b[0;34m\u001b[0m\n",
       "\u001b[0;34m\u001b[0m        \u001b[0mdataset_tst\u001b[0m \u001b[0;34m=\u001b[0m \u001b[0mclient\u001b[0m\u001b[0;34m.\u001b[0m\u001b[0mget_artifact_version\u001b[0m\u001b[0;34m(\u001b[0m\u001b[0;34m\u001b[0m\n",
       "\u001b[0;34m\u001b[0m            \u001b[0mname_id_or_prefix\u001b[0m\u001b[0;34m=\u001b[0m\u001b[0mtest_dataset_id\u001b[0m\u001b[0;34m\u001b[0m\n",
       "\u001b[0;34m\u001b[0m        \u001b[0;34m)\u001b[0m\u001b[0;34m\u001b[0m\n",
       "\u001b[0;34m\u001b[0m\u001b[0;34m\u001b[0m\n",
       "\u001b[0;34m\u001b[0m    \u001b[0mmodel\u001b[0m \u001b[0;34m=\u001b[0m \u001b[0mmodel_trainer\u001b[0m\u001b[0;34m(\u001b[0m\u001b[0;34m\u001b[0m\n",
       "\u001b[0;34m\u001b[0m        \u001b[0mdataset_trn\u001b[0m\u001b[0;34m=\u001b[0m\u001b[0mdataset_trn\u001b[0m\u001b[0;34m,\u001b[0m \u001b[0mtarget\u001b[0m\u001b[0;34m=\u001b[0m\u001b[0mtarget\u001b[0m\u001b[0;34m,\u001b[0m \u001b[0mmodel_type\u001b[0m\u001b[0;34m=\u001b[0m\u001b[0mmodel_type\u001b[0m\u001b[0;34m\u001b[0m\n",
       "\u001b[0;34m\u001b[0m    \u001b[0;34m)\u001b[0m\u001b[0;34m\u001b[0m\n",
       "\u001b[0;34m\u001b[0m\u001b[0;34m\u001b[0m\n",
       "\u001b[0;34m\u001b[0m    \u001b[0macc\u001b[0m \u001b[0;34m=\u001b[0m \u001b[0mmodel_evaluator\u001b[0m\u001b[0;34m(\u001b[0m\u001b[0;34m\u001b[0m\n",
       "\u001b[0;34m\u001b[0m        \u001b[0mmodel\u001b[0m\u001b[0;34m=\u001b[0m\u001b[0mmodel\u001b[0m\u001b[0;34m,\u001b[0m\u001b[0;34m\u001b[0m\n",
       "\u001b[0;34m\u001b[0m        \u001b[0mdataset_trn\u001b[0m\u001b[0;34m=\u001b[0m\u001b[0mdataset_trn\u001b[0m\u001b[0;34m,\u001b[0m\u001b[0;34m\u001b[0m\n",
       "\u001b[0;34m\u001b[0m        \u001b[0mdataset_tst\u001b[0m\u001b[0;34m=\u001b[0m\u001b[0mdataset_tst\u001b[0m\u001b[0;34m,\u001b[0m\u001b[0;34m\u001b[0m\n",
       "\u001b[0;34m\u001b[0m        \u001b[0mtarget\u001b[0m\u001b[0;34m=\u001b[0m\u001b[0mtarget\u001b[0m\u001b[0;34m,\u001b[0m\u001b[0;34m\u001b[0m\n",
       "\u001b[0;34m\u001b[0m    \u001b[0;34m)\u001b[0m\u001b[0;34m\u001b[0m\n",
       "\u001b[0;34m\u001b[0m\u001b[0;34m\u001b[0m\n",
       "\u001b[0;34m\u001b[0m    \u001b[0mmodel_promoter\u001b[0m\u001b[0;34m(\u001b[0m\u001b[0maccuracy\u001b[0m\u001b[0;34m=\u001b[0m\u001b[0macc\u001b[0m\u001b[0;34m)\u001b[0m\u001b[0;34m\u001b[0m\u001b[0;34m\u001b[0m\u001b[0m\n"
      ]
     },
     "metadata": {},
     "output_type": "display_data"
    }
   ],
   "source": [
    "# let's have a look at training pipeline\n",
    "%pycat pipelines/training.py"
   ]
  },
  {
   "cell_type": "markdown",
   "id": "88b70fd3",
   "metadata": {},
   "source": [
    "The end goal of this quick baseline evaluation is to understand which of the two\n",
    "models performs better. We'll use the `evaluator` step to compare the two\n",
    "models. This step takes in the model from the trainer step, and computes its score\n",
    "over the testing set.\n",
    "\n",
    "Soon you will see that it is relatively easy to train ML models using ZenML pipelines. But it can be somewhat clunky to track\n",
    "all the models produced as you develop your experiments and use-cases. Luckily, ZenML offers a *Model Control Plane*,\n",
    "which is a central register of all your ML models.\n",
    "\n",
    "You can easily create a ZenML Model and associate it with your pipelines using the `Model` object:"
   ]
  },
  {
   "cell_type": "code",
   "execution_count": 6,
   "id": "19fe53b2",
   "metadata": {},
   "outputs": [],
   "source": [
    "pipeline_settings = {}\n",
    "\n",
    "# Lets add some metadata to the model to make it identifiable\n",
    "pipeline_settings[\"model\"] = Model(\n",
    "    name=\"breast_cancer_classifier\",\n",
    "    license=\"Apache 2.0\",\n",
    "    description=\"A breast cancer classifier\",\n",
    ")"
   ]
  },
  {
   "cell_type": "code",
   "execution_count": 7,
   "id": "c64885ac",
   "metadata": {},
   "outputs": [
    {
     "name": "stdout",
     "output_type": "stream",
     "text": [
      "\u001b[1;35mInitiating a new run for the pipeline: \u001b[0m\u001b[1;36mtraining\u001b[1;35m.\u001b[0m\n",
      "\u001b[1;35mReusing registered pipeline version: \u001b[0m\u001b[1;36m(version: 146)\u001b[1;35m.\u001b[0m\n",
      "\u001b[1;35mNew model version \u001b[0m\u001b[1;36m2\u001b[1;35m was created.\u001b[0m\n",
      "\u001b[1;35mExecuting a new run.\u001b[0m\n",
      "\u001b[1;35mCaching is disabled by default for \u001b[0m\u001b[1;36mtraining\u001b[1;35m.\u001b[0m\n",
      "\u001b[1;35mUsing user: \u001b[0m\u001b[1;36mhamza@zenml.io\u001b[1;35m\u001b[0m\n",
      "\u001b[1;35mUsing stack: \u001b[0m\u001b[1;36mlocal-sagemaker-step-operator-wandb\u001b[1;35m\u001b[0m\n",
      "\u001b[1;35m  step_operator: \u001b[0m\u001b[1;36msagemaker-eu\u001b[1;35m\u001b[0m\n",
      "\u001b[1;35m  container_registry: \u001b[0m\u001b[1;36maws-eu\u001b[1;35m\u001b[0m\n",
      "\u001b[1;35m  experiment_tracker: \u001b[0m\u001b[1;36mzenml_wandb\u001b[1;35m\u001b[0m\n",
      "\u001b[1;35m  orchestrator: \u001b[0m\u001b[1;36mdefault\u001b[1;35m\u001b[0m\n",
      "\u001b[1;35m  image_builder: \u001b[0m\u001b[1;36mlocal\u001b[1;35m\u001b[0m\n",
      "\u001b[1;35m  artifact_store: \u001b[0m\u001b[1;36ms3-zenfiles\u001b[1;35m\u001b[0m\n",
      "\u001b[33mCould not import GCP service connector: No module named 'google.api_core'.\u001b[0m\n",
      "\u001b[33mCould not import Azure service connector: No module named 'azure.identity'.\u001b[0m\n",
      "\u001b[33mCould not import Kubernetes service connector: No module named 'kubernetes'.\u001b[0m\n",
      "\u001b[33mCould not import HyperAI service connector: No module named 'paramiko'.\u001b[0m\n",
      "\u001b[1;35mStep \u001b[0m\u001b[1;36mdata_loader\u001b[1;35m has started.\u001b[0m\n",
      "\u001b[1;35mDataset with 541 records loaded!\u001b[0m\n",
      "\u001b[1;35mStep \u001b[0m\u001b[1;36mdata_loader\u001b[1;35m has finished in \u001b[0m\u001b[1;36m6.566s\u001b[1;35m.\u001b[0m\n",
      "\u001b[1;35mStep \u001b[0m\u001b[1;36mdata_splitter\u001b[1;35m has started.\u001b[0m\n",
      "\u001b[1;35mStep \u001b[0m\u001b[1;36mdata_splitter\u001b[1;35m has finished in \u001b[0m\u001b[1;36m9.929s\u001b[1;35m.\u001b[0m\n",
      "\u001b[1;35mStep \u001b[0m\u001b[1;36mdata_preprocessor\u001b[1;35m has started.\u001b[0m\n",
      "\u001b[1;35mStep \u001b[0m\u001b[1;36mdata_preprocessor\u001b[1;35m has finished in \u001b[0m\u001b[1;36m13.618s\u001b[1;35m.\u001b[0m\n",
      "\u001b[1;35mStep \u001b[0m\u001b[1;36mmodel_trainer\u001b[1;35m has started.\u001b[0m\n",
      "\u001b[1;35mInitializing wandb with entity None, project name: None, run_name: training-2024_02_09-15_38_23_251071_model_trainer.\u001b[0m\n",
      "\u001b[34m\u001b[1mwandb\u001b[0m: Currently logged in as: \u001b[33mzenmlcodemonkey\u001b[0m (\u001b[33mzenmlcode\u001b[0m). Use \u001b[1m`wandb login --relogin`\u001b[0m to force relogin\n"
     ]
    },
    {
     "data": {
      "text/html": [
       "Tracking run with wandb version 0.16.3"
      ],
      "text/plain": [
       "<IPython.core.display.HTML object>"
      ]
     },
     "metadata": {},
     "output_type": "display_data"
    },
    {
     "data": {
      "text/html": [
       "Run data is saved locally in <code>/home/htahir1/workspace/zenml_io/zenml-projects/classifier-e2e/wandb/run-20240209_163917-2xjpgcem</code>"
      ],
      "text/plain": [
       "<IPython.core.display.HTML object>"
      ]
     },
     "metadata": {},
     "output_type": "display_data"
    },
    {
     "data": {
      "text/html": [
       "Syncing run <strong><a href='https://wandb.ai/zenmlcode/zenml-projects-classifier-e2e/runs/2xjpgcem' target=\"_blank\">training-2024_02_09-15_38_23_251071_model_trainer</a></strong> to <a href='https://wandb.ai/zenmlcode/zenml-projects-classifier-e2e' target=\"_blank\">Weights & Biases</a> (<a href='https://wandb.me/run' target=\"_blank\">docs</a>)<br/>"
      ],
      "text/plain": [
       "<IPython.core.display.HTML object>"
      ]
     },
     "metadata": {},
     "output_type": "display_data"
    },
    {
     "data": {
      "text/html": [
       " View project at <a href='https://wandb.ai/zenmlcode/zenml-projects-classifier-e2e' target=\"_blank\">https://wandb.ai/zenmlcode/zenml-projects-classifier-e2e</a>"
      ],
      "text/plain": [
       "<IPython.core.display.HTML object>"
      ]
     },
     "metadata": {},
     "output_type": "display_data"
    },
    {
     "data": {
      "text/html": [
       " View run at <a href='https://wandb.ai/zenmlcode/zenml-projects-classifier-e2e/runs/2xjpgcem' target=\"_blank\">https://wandb.ai/zenmlcode/zenml-projects-classifier-e2e/runs/2xjpgcem</a>"
      ],
      "text/plain": [
       "<IPython.core.display.HTML object>"
      ]
     },
     "metadata": {},
     "output_type": "display_data"
    },
    {
     "name": "stdout",
     "output_type": "stream",
     "text": [
      "\u001b[1;35mTraining model XGBClassifier(base_score=None, booster=None, callbacks=None,\n",
      "              colsample_bylevel=None, colsample_bynode=None,\n",
      "              colsample_bytree=None, device=None, early_stopping_rounds=None,\n",
      "              enable_categorical=False, eval_metric=None, feature_types=None,\n",
      "              gamma=None, grow_policy=None, importance_type=None,\n",
      "              interaction_constraints=None, learning_rate=None, max_bin=None,\n",
      "              max_cat_threshold=None, max_cat_to_onehot=None,\n",
      "              max_delta_step=None, max_depth=None, max_leaves=None,\n",
      "              min_child_weight=None, missing=nan, monotone_constraints=None,\n",
      "              multi_strategy=None, n_estimators=None, n_jobs=None,\n",
      "              num_parallel_tree=None, random_state=None, ...)...\u001b[0m\n"
     ]
    },
    {
     "data": {
      "application/vnd.jupyter.widget-view+json": {
       "model_id": "",
       "version_major": 2,
       "version_minor": 0
      },
      "text/plain": [
       "VBox(children=(Label(value='0.004 MB of 0.004 MB uploaded\\r'), FloatProgress(value=1.0, max=1.0)))"
      ]
     },
     "metadata": {},
     "output_type": "display_data"
    },
    {
     "data": {
      "text/html": [
       "W&B sync reduced upload amount by 28.1%             "
      ],
      "text/plain": [
       "<IPython.core.display.HTML object>"
      ]
     },
     "metadata": {},
     "output_type": "display_data"
    },
    {
     "data": {
      "text/html": [
       " View run <strong style=\"color:#cdcd00\">training-2024_02_09-15_38_23_251071_model_trainer</strong> at: <a href='https://wandb.ai/zenmlcode/zenml-projects-classifier-e2e/runs/2xjpgcem' target=\"_blank\">https://wandb.ai/zenmlcode/zenml-projects-classifier-e2e/runs/2xjpgcem</a><br/> View job at <a href='https://wandb.ai/zenmlcode/zenml-projects-classifier-e2e/jobs/QXJ0aWZhY3RDb2xsZWN0aW9uOjEzODQ5NDk3OQ==/version_details/v1' target=\"_blank\">https://wandb.ai/zenmlcode/zenml-projects-classifier-e2e/jobs/QXJ0aWZhY3RDb2xsZWN0aW9uOjEzODQ5NDk3OQ==/version_details/v1</a><br/>Synced 5 W&B file(s), 0 media file(s), 2 artifact file(s) and 0 other file(s)"
      ],
      "text/plain": [
       "<IPython.core.display.HTML object>"
      ]
     },
     "metadata": {},
     "output_type": "display_data"
    },
    {
     "data": {
      "text/html": [
       "Find logs at: <code>./wandb/run-20240209_163917-2xjpgcem/logs</code>"
      ],
      "text/plain": [
       "<IPython.core.display.HTML object>"
      ]
     },
     "metadata": {},
     "output_type": "display_data"
    },
    {
     "name": "stdout",
     "output_type": "stream",
     "text": [
      "\u001b[1;35mStep \u001b[0m\u001b[1;36mmodel_trainer\u001b[1;35m has finished in \u001b[0m\u001b[1;36m23.844s\u001b[1;35m.\u001b[0m\n",
      "\u001b[1;35mStep \u001b[0m\u001b[1;36mmodel_evaluator\u001b[1;35m has started.\u001b[0m\n",
      "\u001b[1;35mInitializing wandb with entity None, project name: None, run_name: training-2024_02_09-15_38_23_251071_model_evaluator.\u001b[0m\n"
     ]
    },
    {
     "data": {
      "text/html": [
       "Tracking run with wandb version 0.16.3"
      ],
      "text/plain": [
       "<IPython.core.display.HTML object>"
      ]
     },
     "metadata": {},
     "output_type": "display_data"
    },
    {
     "data": {
      "text/html": [
       "Run data is saved locally in <code>/home/htahir1/workspace/zenml_io/zenml-projects/classifier-e2e/wandb/run-20240209_163944-oerkzyw8</code>"
      ],
      "text/plain": [
       "<IPython.core.display.HTML object>"
      ]
     },
     "metadata": {},
     "output_type": "display_data"
    },
    {
     "data": {
      "text/html": [
       "Syncing run <strong><a href='https://wandb.ai/zenmlcode/zenml-projects-classifier-e2e/runs/oerkzyw8' target=\"_blank\">training-2024_02_09-15_38_23_251071_model_evaluator</a></strong> to <a href='https://wandb.ai/zenmlcode/zenml-projects-classifier-e2e' target=\"_blank\">Weights & Biases</a> (<a href='https://wandb.me/run' target=\"_blank\">docs</a>)<br/>"
      ],
      "text/plain": [
       "<IPython.core.display.HTML object>"
      ]
     },
     "metadata": {},
     "output_type": "display_data"
    },
    {
     "data": {
      "text/html": [
       " View project at <a href='https://wandb.ai/zenmlcode/zenml-projects-classifier-e2e' target=\"_blank\">https://wandb.ai/zenmlcode/zenml-projects-classifier-e2e</a>"
      ],
      "text/plain": [
       "<IPython.core.display.HTML object>"
      ]
     },
     "metadata": {},
     "output_type": "display_data"
    },
    {
     "data": {
      "text/html": [
       " View run at <a href='https://wandb.ai/zenmlcode/zenml-projects-classifier-e2e/runs/oerkzyw8' target=\"_blank\">https://wandb.ai/zenmlcode/zenml-projects-classifier-e2e/runs/oerkzyw8</a>"
      ],
      "text/plain": [
       "<IPython.core.display.HTML object>"
      ]
     },
     "metadata": {},
     "output_type": "display_data"
    },
    {
     "name": "stdout",
     "output_type": "stream",
     "text": [
      "\u001b[33mYour artifact was materialized under Python version 'unknown' but you are currently using '3.8.10'. This might cause unexpected behavior since pickle is not reproducible across Python versions. Attempting to load anyway...\u001b[0m\n",
      "\u001b[1;35mTrain accuracy=100.00%\u001b[0m\n",
      "\u001b[1;35mTest accuracy=97.25%\u001b[0m\n"
     ]
    },
    {
     "data": {
      "application/vnd.jupyter.widget-view+json": {
       "model_id": "",
       "version_major": 2,
       "version_minor": 0
      },
      "text/plain": [
       "VBox(children=(Label(value='0.004 MB of 0.004 MB uploaded\\r'), FloatProgress(value=1.0, max=1.0)))"
      ]
     },
     "metadata": {},
     "output_type": "display_data"
    },
    {
     "data": {
      "text/html": [
       "W&B sync reduced upload amount by 25.7%             "
      ],
      "text/plain": [
       "<IPython.core.display.HTML object>"
      ]
     },
     "metadata": {},
     "output_type": "display_data"
    },
    {
     "data": {
      "text/html": [
       "<style>\n",
       "    table.wandb td:nth-child(1) { padding: 0 10px; text-align: left ; width: auto;} td:nth-child(2) {text-align: left ; width: 100%}\n",
       "    .wandb-row { display: flex; flex-direction: row; flex-wrap: wrap; justify-content: flex-start; width: 100% }\n",
       "    .wandb-col { display: flex; flex-direction: column; flex-basis: 100%; flex: 1; padding: 10px; }\n",
       "    </style>\n",
       "<div class=\"wandb-row\"><div class=\"wandb-col\"><h3>Run history:</h3><br/><table class=\"wandb\"><tr><td>test_accuracy</td><td>▁</td></tr><tr><td>train_accuracy</td><td>▁</td></tr></table><br/></div><div class=\"wandb-col\"><h3>Run summary:</h3><br/><table class=\"wandb\"><tr><td>test_accuracy</td><td>0.97248</td></tr><tr><td>train_accuracy</td><td>1.0</td></tr></table><br/></div></div>"
      ],
      "text/plain": [
       "<IPython.core.display.HTML object>"
      ]
     },
     "metadata": {},
     "output_type": "display_data"
    },
    {
     "data": {
      "text/html": [
       " View run <strong style=\"color:#cdcd00\">training-2024_02_09-15_38_23_251071_model_evaluator</strong> at: <a href='https://wandb.ai/zenmlcode/zenml-projects-classifier-e2e/runs/oerkzyw8' target=\"_blank\">https://wandb.ai/zenmlcode/zenml-projects-classifier-e2e/runs/oerkzyw8</a><br/> View job at <a href='https://wandb.ai/zenmlcode/zenml-projects-classifier-e2e/jobs/QXJ0aWZhY3RDb2xsZWN0aW9uOjEzODQ5NDk3OQ==/version_details/v2' target=\"_blank\">https://wandb.ai/zenmlcode/zenml-projects-classifier-e2e/jobs/QXJ0aWZhY3RDb2xsZWN0aW9uOjEzODQ5NDk3OQ==/version_details/v2</a><br/>Synced 5 W&B file(s), 1 media file(s), 3 artifact file(s) and 0 other file(s)"
      ],
      "text/plain": [
       "<IPython.core.display.HTML object>"
      ]
     },
     "metadata": {},
     "output_type": "display_data"
    },
    {
     "data": {
      "text/html": [
       "Find logs at: <code>./wandb/run-20240209_163944-oerkzyw8/logs</code>"
      ],
      "text/plain": [
       "<IPython.core.display.HTML object>"
      ]
     },
     "metadata": {},
     "output_type": "display_data"
    },
    {
     "name": "stdout",
     "output_type": "stream",
     "text": [
      "\u001b[1;35mImplicitly linking artifact \u001b[0m\u001b[1;36moutput\u001b[1;35m to model \u001b[0m\u001b[1;36mbreast_cancer_classifier\u001b[1;35m version \u001b[0m\u001b[1;36m2\u001b[1;35m.\u001b[0m\n",
      "\u001b[1;35mStep \u001b[0m\u001b[1;36mmodel_evaluator\u001b[1;35m has finished in \u001b[0m\u001b[1;36m18.366s\u001b[1;35m.\u001b[0m\n",
      "\u001b[1;35mStep \u001b[0m\u001b[1;36mmodel_promoter\u001b[1;35m has started.\u001b[0m\n",
      "\u001b[33mYour artifact was materialized under Python version 'unknown' but you are currently using '3.8.10'. This might cause unexpected behavior since pickle is not reproducible across Python versions. Attempting to load anyway...\u001b[0m\n",
      "\u001b[1;35mImplicitly linking artifact \u001b[0m\u001b[1;36moutput\u001b[1;35m to model \u001b[0m\u001b[1;36mbreast_cancer_classifier\u001b[1;35m version \u001b[0m\u001b[1;36m2\u001b[1;35m.\u001b[0m\n",
      "\u001b[1;35mStep \u001b[0m\u001b[1;36mmodel_promoter\u001b[1;35m has finished in \u001b[0m\u001b[1;36m17.530s\u001b[1;35m.\u001b[0m\n",
      "\u001b[1;35mPipeline run has finished in \u001b[0m\u001b[1;36m2m0s\u001b[1;35m.\u001b[0m\n",
      "\u001b[1;35mDashboard URL: https://1cf18d95-zenml.cloudinfra.zenml.io/workspaces/default/pipelines/7b61c1dd-cc67-4d51-b5e1-f609cf7794c3/runs/28a6e92a-5c69-4397-830f-afca1d44e535/dag\u001b[0m\n"
     ]
    }
   ],
   "source": [
    "# Let's train the XGBoost model and tag the version name with \"xgboost\"\n",
    "pipeline_settings[\"model\"].tags = [\"breast_cancer\", \"classifier\", \"xgboost\"]\n",
    "\n",
    "# Use an XGBoost model with fixed seed.\n",
    "training.with_options(enable_cache=False,**pipeline_settings)(\n",
    "    model_type=\"xgboost\",\n",
    "    random_state=42\n",
    ")\n",
    "\n",
    "xgboost_run = client.get_pipeline(\"training\").last_run"
   ]
  },
  {
   "cell_type": "code",
   "execution_count": null,
   "id": "4300c82f",
   "metadata": {},
   "outputs": [
    {
     "name": "stdout",
     "output_type": "stream",
     "text": [
      "\u001b[1;35mInitiating a new run for the pipeline: \u001b[0m\u001b[1;36mtraining\u001b[1;35m.\u001b[0m\n",
      "\u001b[1;35mReusing registered pipeline version: \u001b[0m\u001b[1;36m(version: 147)\u001b[1;35m.\u001b[0m\n",
      "\u001b[33mProvided model configuration does not match existing model \u001b[0m\u001b[1;36mbreast_cancer_classifier\u001b[33m with the following changes: {'tags added': ['sgd'], 'tags removed': ['xgboost']}. If you want to update the model configuration, please use the \u001b[0m\u001b[1;36mzenml model update\u001b[33m command.\u001b[0m\n",
      "\u001b[1;35mExecuting a new run.\u001b[0m\n",
      "\u001b[1;35mUsing user: \u001b[0m\u001b[1;36mhamza@zenml.io\u001b[1;35m\u001b[0m\n",
      "\u001b[1;35mUsing stack: \u001b[0m\u001b[1;36mlocal-sagemaker-step-operator-wandb\u001b[1;35m\u001b[0m\n",
      "\u001b[1;35m  step_operator: \u001b[0m\u001b[1;36msagemaker-eu\u001b[1;35m\u001b[0m\n",
      "\u001b[1;35m  container_registry: \u001b[0m\u001b[1;36maws-eu\u001b[1;35m\u001b[0m\n",
      "\u001b[1;35m  experiment_tracker: \u001b[0m\u001b[1;36mzenml_wandb\u001b[1;35m\u001b[0m\n",
      "\u001b[1;35m  orchestrator: \u001b[0m\u001b[1;36mdefault\u001b[1;35m\u001b[0m\n",
      "\u001b[1;35m  image_builder: \u001b[0m\u001b[1;36mlocal\u001b[1;35m\u001b[0m\n",
      "\u001b[1;35m  artifact_store: \u001b[0m\u001b[1;36ms3-zenfiles\u001b[1;35m\u001b[0m\n",
      "\u001b[1;35mUsing cached version of \u001b[0m\u001b[1;36mdata_loader\u001b[1;35m.\u001b[0m\n",
      "\u001b[33mProvided model configuration does not match existing model \u001b[0m\u001b[1;36mbreast_cancer_classifier\u001b[33m with the following changes: {'tags added': ['sgd'], 'tags removed': ['xgboost']}. If you want to update the model configuration, please use the \u001b[0m\u001b[1;36mzenml model update\u001b[33m command.\u001b[0m\n",
      "\u001b[1;35mStep \u001b[0m\u001b[1;36mdata_loader\u001b[1;35m has started.\u001b[0m\n",
      "\u001b[1;35mUsing cached version of \u001b[0m\u001b[1;36mdata_splitter\u001b[1;35m.\u001b[0m\n",
      "\u001b[33mProvided model configuration does not match existing model \u001b[0m\u001b[1;36mbreast_cancer_classifier\u001b[33m with the following changes: {'tags added': ['sgd'], 'tags removed': ['xgboost']}. If you want to update the model configuration, please use the \u001b[0m\u001b[1;36mzenml model update\u001b[33m command.\u001b[0m\n",
      "\u001b[33mProvided model configuration does not match existing model \u001b[0m\u001b[1;36mbreast_cancer_classifier\u001b[33m with the following changes: {'tags added': ['sgd'], 'tags removed': ['xgboost']}. If you want to update the model configuration, please use the \u001b[0m\u001b[1;36mzenml model update\u001b[33m command.\u001b[0m\n",
      "\u001b[1;35mStep \u001b[0m\u001b[1;36mdata_splitter\u001b[1;35m has started.\u001b[0m\n",
      "\u001b[1;35mUsing cached version of \u001b[0m\u001b[1;36mdata_preprocessor\u001b[1;35m.\u001b[0m\n",
      "\u001b[33mProvided model configuration does not match existing model \u001b[0m\u001b[1;36mbreast_cancer_classifier\u001b[33m with the following changes: {'tags added': ['sgd'], 'tags removed': ['xgboost']}. If you want to update the model configuration, please use the \u001b[0m\u001b[1;36mzenml model update\u001b[33m command.\u001b[0m\n",
      "\u001b[33mProvided model configuration does not match existing model \u001b[0m\u001b[1;36mbreast_cancer_classifier\u001b[33m with the following changes: {'tags added': ['sgd'], 'tags removed': ['xgboost']}. If you want to update the model configuration, please use the \u001b[0m\u001b[1;36mzenml model update\u001b[33m command.\u001b[0m\n",
      "\u001b[33mProvided model configuration does not match existing model \u001b[0m\u001b[1;36mbreast_cancer_classifier\u001b[33m with the following changes: {'tags added': ['sgd'], 'tags removed': ['xgboost']}. If you want to update the model configuration, please use the \u001b[0m\u001b[1;36mzenml model update\u001b[33m command.\u001b[0m\n",
      "\u001b[1;35mStep \u001b[0m\u001b[1;36mdata_preprocessor\u001b[1;35m has started.\u001b[0m\n",
      "\u001b[1;35mStep \u001b[0m\u001b[1;36mmodel_trainer\u001b[1;35m has started.\u001b[0m\n",
      "\u001b[1;35mInitializing wandb with entity None, project name: None, run_name: training-2024_02_09-15_40_46_832350_model_trainer.\u001b[0m\n"
     ]
    },
    {
     "data": {
      "text/html": [
       "Tracking run with wandb version 0.16.3"
      ],
      "text/plain": [
       "<IPython.core.display.HTML object>"
      ]
     },
     "metadata": {},
     "output_type": "display_data"
    },
    {
     "data": {
      "text/html": [
       "Run data is saved locally in <code>/home/htahir1/workspace/zenml_io/zenml-projects/classifier-e2e/wandb/run-20240209_164109-jyjdalxg</code>"
      ],
      "text/plain": [
       "<IPython.core.display.HTML object>"
      ]
     },
     "metadata": {},
     "output_type": "display_data"
    },
    {
     "data": {
      "text/html": [
       "Syncing run <strong><a href='https://wandb.ai/zenmlcode/zenml-projects-classifier-e2e/runs/jyjdalxg' target=\"_blank\">training-2024_02_09-15_40_46_832350_model_trainer</a></strong> to <a href='https://wandb.ai/zenmlcode/zenml-projects-classifier-e2e' target=\"_blank\">Weights & Biases</a> (<a href='https://wandb.me/run' target=\"_blank\">docs</a>)<br/>"
      ],
      "text/plain": [
       "<IPython.core.display.HTML object>"
      ]
     },
     "metadata": {},
     "output_type": "display_data"
    },
    {
     "data": {
      "text/html": [
       " View project at <a href='https://wandb.ai/zenmlcode/zenml-projects-classifier-e2e' target=\"_blank\">https://wandb.ai/zenmlcode/zenml-projects-classifier-e2e</a>"
      ],
      "text/plain": [
       "<IPython.core.display.HTML object>"
      ]
     },
     "metadata": {},
     "output_type": "display_data"
    },
    {
     "data": {
      "text/html": [
       " View run at <a href='https://wandb.ai/zenmlcode/zenml-projects-classifier-e2e/runs/jyjdalxg' target=\"_blank\">https://wandb.ai/zenmlcode/zenml-projects-classifier-e2e/runs/jyjdalxg</a>"
      ],
      "text/plain": [
       "<IPython.core.display.HTML object>"
      ]
     },
     "metadata": {},
     "output_type": "display_data"
    },
    {
     "name": "stdout",
     "output_type": "stream",
     "text": [
      "\u001b[33mProvided model configuration does not match existing model \u001b[0m\u001b[1;36mbreast_cancer_classifier\u001b[33m with the following changes: {'tags added': ['sgd'], 'tags removed': ['xgboost']}. If you want to update the model configuration, please use the \u001b[0m\u001b[1;36mzenml model update\u001b[33m command.\u001b[0m\n",
      "\u001b[33mProvided model configuration does not match existing model \u001b[0m\u001b[1;36mbreast_cancer_classifier\u001b[33m with the following changes: {'tags added': ['sgd'], 'tags removed': ['xgboost']}. If you want to update the model configuration, please use the \u001b[0m\u001b[1;36mzenml model update\u001b[33m command.\u001b[0m\n",
      "\u001b[33mProvided model configuration does not match existing model \u001b[0m\u001b[1;36mbreast_cancer_classifier\u001b[33m with the following changes: {'tags added': ['sgd'], 'tags removed': ['xgboost']}. If you want to update the model configuration, please use the \u001b[0m\u001b[1;36mzenml model update\u001b[33m command.\u001b[0m\n",
      "\u001b[33mProvided model configuration does not match existing model \u001b[0m\u001b[1;36mbreast_cancer_classifier\u001b[33m with the following changes: {'tags added': ['sgd'], 'tags removed': ['xgboost']}. If you want to update the model configuration, please use the \u001b[0m\u001b[1;36mzenml model update\u001b[33m command.\u001b[0m\n",
      "\u001b[1;35mTraining model SGDClassifier()...\u001b[0m\n"
     ]
    },
    {
     "data": {
      "application/vnd.jupyter.widget-view+json": {
       "model_id": "",
       "version_major": 2,
       "version_minor": 0
      },
      "text/plain": [
       "VBox(children=(Label(value='0.004 MB of 0.009 MB uploaded\\r'), FloatProgress(value=0.410205652699879, max=1.0)…"
      ]
     },
     "metadata": {},
     "output_type": "display_data"
    },
    {
     "data": {
      "text/html": [
       " View run <strong style=\"color:#cdcd00\">training-2024_02_09-15_40_46_832350_model_trainer</strong> at: <a href='https://wandb.ai/zenmlcode/zenml-projects-classifier-e2e/runs/jyjdalxg' target=\"_blank\">https://wandb.ai/zenmlcode/zenml-projects-classifier-e2e/runs/jyjdalxg</a><br/> View job at <a href='https://wandb.ai/zenmlcode/zenml-projects-classifier-e2e/jobs/QXJ0aWZhY3RDb2xsZWN0aW9uOjEzODQ5NDk3OQ==/version_details/v3' target=\"_blank\">https://wandb.ai/zenmlcode/zenml-projects-classifier-e2e/jobs/QXJ0aWZhY3RDb2xsZWN0aW9uOjEzODQ5NDk3OQ==/version_details/v3</a><br/>Synced 5 W&B file(s), 0 media file(s), 0 artifact file(s) and 0 other file(s)"
      ],
      "text/plain": [
       "<IPython.core.display.HTML object>"
      ]
     },
     "metadata": {},
     "output_type": "display_data"
    },
    {
     "data": {
      "text/html": [
       "Find logs at: <code>./wandb/run-20240209_164109-jyjdalxg/logs</code>"
      ],
      "text/plain": [
       "<IPython.core.display.HTML object>"
      ]
     },
     "metadata": {},
     "output_type": "display_data"
    },
    {
     "name": "stdout",
     "output_type": "stream",
     "text": [
      "\u001b[33mProvided model configuration does not match existing model \u001b[0m\u001b[1;36mbreast_cancer_classifier\u001b[33m with the following changes: {'tags added': ['sgd'], 'tags removed': ['xgboost']}. If you want to update the model configuration, please use the \u001b[0m\u001b[1;36mzenml model update\u001b[33m command.\u001b[0m\n",
      "\u001b[33mProvided model configuration does not match existing model \u001b[0m\u001b[1;36mbreast_cancer_classifier\u001b[33m with the following changes: {'tags added': ['sgd'], 'tags removed': ['xgboost']}. If you want to update the model configuration, please use the \u001b[0m\u001b[1;36mzenml model update\u001b[33m command.\u001b[0m\n",
      "\u001b[33mProvided model configuration does not match existing model \u001b[0m\u001b[1;36mbreast_cancer_classifier\u001b[33m with the following changes: {'tags added': ['sgd'], 'tags removed': ['xgboost']}. If you want to update the model configuration, please use the \u001b[0m\u001b[1;36mzenml model update\u001b[33m command.\u001b[0m\n",
      "\u001b[33mProvided model configuration does not match existing model \u001b[0m\u001b[1;36mbreast_cancer_classifier\u001b[33m with the following changes: {'tags added': ['sgd'], 'tags removed': ['xgboost']}. If you want to update the model configuration, please use the \u001b[0m\u001b[1;36mzenml model update\u001b[33m command.\u001b[0m\n",
      "\u001b[1;35mStep \u001b[0m\u001b[1;36mmodel_trainer\u001b[1;35m has finished in \u001b[0m\u001b[1;36m17.708s\u001b[1;35m.\u001b[0m\n",
      "\u001b[1;35mStep \u001b[0m\u001b[1;36mmodel_evaluator\u001b[1;35m has started.\u001b[0m\n",
      "\u001b[1;35mInitializing wandb with entity None, project name: None, run_name: training-2024_02_09-15_40_46_832350_model_evaluator.\u001b[0m\n"
     ]
    },
    {
     "data": {
      "text/html": [
       "Tracking run with wandb version 0.16.3"
      ],
      "text/plain": [
       "<IPython.core.display.HTML object>"
      ]
     },
     "metadata": {},
     "output_type": "display_data"
    },
    {
     "data": {
      "text/html": [
       "Run data is saved locally in <code>/home/htahir1/workspace/zenml_io/zenml-projects/classifier-e2e/wandb/run-20240209_164131-txtu0wof</code>"
      ],
      "text/plain": [
       "<IPython.core.display.HTML object>"
      ]
     },
     "metadata": {},
     "output_type": "display_data"
    },
    {
     "data": {
      "text/html": [
       "Syncing run <strong><a href='https://wandb.ai/zenmlcode/zenml-projects-classifier-e2e/runs/txtu0wof' target=\"_blank\">training-2024_02_09-15_40_46_832350_model_evaluator</a></strong> to <a href='https://wandb.ai/zenmlcode/zenml-projects-classifier-e2e' target=\"_blank\">Weights & Biases</a> (<a href='https://wandb.me/run' target=\"_blank\">docs</a>)<br/>"
      ],
      "text/plain": [
       "<IPython.core.display.HTML object>"
      ]
     },
     "metadata": {},
     "output_type": "display_data"
    },
    {
     "data": {
      "text/html": [
       " View project at <a href='https://wandb.ai/zenmlcode/zenml-projects-classifier-e2e' target=\"_blank\">https://wandb.ai/zenmlcode/zenml-projects-classifier-e2e</a>"
      ],
      "text/plain": [
       "<IPython.core.display.HTML object>"
      ]
     },
     "metadata": {},
     "output_type": "display_data"
    },
    {
     "data": {
      "text/html": [
       " View run at <a href='https://wandb.ai/zenmlcode/zenml-projects-classifier-e2e/runs/txtu0wof' target=\"_blank\">https://wandb.ai/zenmlcode/zenml-projects-classifier-e2e/runs/txtu0wof</a>"
      ],
      "text/plain": [
       "<IPython.core.display.HTML object>"
      ]
     },
     "metadata": {},
     "output_type": "display_data"
    },
    {
     "name": "stdout",
     "output_type": "stream",
     "text": [
      "\u001b[33mProvided model configuration does not match existing model \u001b[0m\u001b[1;36mbreast_cancer_classifier\u001b[33m with the following changes: {'tags added': ['sgd'], 'tags removed': ['xgboost']}. If you want to update the model configuration, please use the \u001b[0m\u001b[1;36mzenml model update\u001b[33m command.\u001b[0m\n",
      "\u001b[33mProvided model configuration does not match existing model \u001b[0m\u001b[1;36mbreast_cancer_classifier\u001b[33m with the following changes: {'tags added': ['sgd'], 'tags removed': ['xgboost']}. If you want to update the model configuration, please use the \u001b[0m\u001b[1;36mzenml model update\u001b[33m command.\u001b[0m\n",
      "\u001b[33mYour artifact was materialized under Python version 'unknown' but you are currently using '3.8.10'. This might cause unexpected behavior since pickle is not reproducible across Python versions. Attempting to load anyway...\u001b[0m\n",
      "\u001b[33mProvided model configuration does not match existing model \u001b[0m\u001b[1;36mbreast_cancer_classifier\u001b[33m with the following changes: {'tags added': ['sgd'], 'tags removed': ['xgboost']}. If you want to update the model configuration, please use the \u001b[0m\u001b[1;36mzenml model update\u001b[33m command.\u001b[0m\n",
      "\u001b[33mProvided model configuration does not match existing model \u001b[0m\u001b[1;36mbreast_cancer_classifier\u001b[33m with the following changes: {'tags added': ['sgd'], 'tags removed': ['xgboost']}. If you want to update the model configuration, please use the \u001b[0m\u001b[1;36mzenml model update\u001b[33m command.\u001b[0m\n",
      "\u001b[1;35mTrain accuracy=66.20%\u001b[0m\n",
      "\u001b[1;35mTest accuracy=74.31%\u001b[0m\n",
      "\u001b[33mProvided model configuration does not match existing model \u001b[0m\u001b[1;36mbreast_cancer_classifier\u001b[33m with the following changes: {'tags added': ['sgd'], 'tags removed': ['xgboost']}. If you want to update the model configuration, please use the \u001b[0m\u001b[1;36mzenml model update\u001b[33m command.\u001b[0m\n",
      "\u001b[33mProvided model configuration does not match existing model \u001b[0m\u001b[1;36mbreast_cancer_classifier\u001b[33m with the following changes: {'tags added': ['sgd'], 'tags removed': ['xgboost']}. If you want to update the model configuration, please use the \u001b[0m\u001b[1;36mzenml model update\u001b[33m command.\u001b[0m\n",
      "\u001b[33mProvided model configuration does not match existing model \u001b[0m\u001b[1;36mbreast_cancer_classifier\u001b[33m with the following changes: {'tags added': ['sgd'], 'tags removed': ['xgboost']}. If you want to update the model configuration, please use the \u001b[0m\u001b[1;36mzenml model update\u001b[33m command.\u001b[0m\n"
     ]
    },
    {
     "data": {
      "application/vnd.jupyter.widget-view+json": {
       "model_id": "",
       "version_major": 2,
       "version_minor": 0
      },
      "text/plain": [
       "VBox(children=(Label(value='0.004 MB of 0.004 MB uploaded\\r'), FloatProgress(value=1.0, max=1.0)))"
      ]
     },
     "metadata": {},
     "output_type": "display_data"
    },
    {
     "data": {
      "text/html": [
       "<style>\n",
       "    table.wandb td:nth-child(1) { padding: 0 10px; text-align: left ; width: auto;} td:nth-child(2) {text-align: left ; width: 100%}\n",
       "    .wandb-row { display: flex; flex-direction: row; flex-wrap: wrap; justify-content: flex-start; width: 100% }\n",
       "    .wandb-col { display: flex; flex-direction: column; flex-basis: 100%; flex: 1; padding: 10px; }\n",
       "    </style>\n",
       "<div class=\"wandb-row\"><div class=\"wandb-col\"><h3>Run history:</h3><br/><table class=\"wandb\"><tr><td>test_accuracy</td><td>▁</td></tr><tr><td>train_accuracy</td><td>▁</td></tr></table><br/></div><div class=\"wandb-col\"><h3>Run summary:</h3><br/><table class=\"wandb\"><tr><td>test_accuracy</td><td>0.74312</td></tr><tr><td>train_accuracy</td><td>0.66204</td></tr></table><br/></div></div>"
      ],
      "text/plain": [
       "<IPython.core.display.HTML object>"
      ]
     },
     "metadata": {},
     "output_type": "display_data"
    },
    {
     "data": {
      "text/html": [
       " View run <strong style=\"color:#cdcd00\">training-2024_02_09-15_40_46_832350_model_evaluator</strong> at: <a href='https://wandb.ai/zenmlcode/zenml-projects-classifier-e2e/runs/txtu0wof' target=\"_blank\">https://wandb.ai/zenmlcode/zenml-projects-classifier-e2e/runs/txtu0wof</a><br/> View job at <a href='https://wandb.ai/zenmlcode/zenml-projects-classifier-e2e/jobs/QXJ0aWZhY3RDb2xsZWN0aW9uOjEzODQ5NDk3OQ==/version_details/v2' target=\"_blank\">https://wandb.ai/zenmlcode/zenml-projects-classifier-e2e/jobs/QXJ0aWZhY3RDb2xsZWN0aW9uOjEzODQ5NDk3OQ==/version_details/v2</a><br/>Synced 5 W&B file(s), 1 media file(s), 1 artifact file(s) and 0 other file(s)"
      ],
      "text/plain": [
       "<IPython.core.display.HTML object>"
      ]
     },
     "metadata": {},
     "output_type": "display_data"
    },
    {
     "data": {
      "text/html": [
       "Find logs at: <code>./wandb/run-20240209_164131-txtu0wof/logs</code>"
      ],
      "text/plain": [
       "<IPython.core.display.HTML object>"
      ]
     },
     "metadata": {},
     "output_type": "display_data"
    },
    {
     "name": "stdout",
     "output_type": "stream",
     "text": [
      "\u001b[33mProvided model configuration does not match existing model \u001b[0m\u001b[1;36mbreast_cancer_classifier\u001b[33m with the following changes: {'tags added': ['sgd'], 'tags removed': ['xgboost']}. If you want to update the model configuration, please use the \u001b[0m\u001b[1;36mzenml model update\u001b[33m command.\u001b[0m\n",
      "\u001b[1;35mImplicitly linking artifact \u001b[0m\u001b[1;36moutput\u001b[1;35m to model \u001b[0m\u001b[1;36mbreast_cancer_classifier\u001b[1;35m version \u001b[0m\u001b[1;36m3\u001b[1;35m.\u001b[0m\n",
      "\u001b[33mProvided model configuration does not match existing model \u001b[0m\u001b[1;36mbreast_cancer_classifier\u001b[33m with the following changes: {'tags added': ['sgd'], 'tags removed': ['xgboost']}. If you want to update the model configuration, please use the \u001b[0m\u001b[1;36mzenml model update\u001b[33m command.\u001b[0m\n",
      "\u001b[1;35mStep \u001b[0m\u001b[1;36mmodel_evaluator\u001b[1;35m has finished in \u001b[0m\u001b[1;36m21.367s\u001b[1;35m.\u001b[0m\n",
      "\u001b[1;35mStep \u001b[0m\u001b[1;36mmodel_promoter\u001b[1;35m has started.\u001b[0m\n",
      "\u001b[33mProvided model configuration does not match existing model \u001b[0m\u001b[1;36mbreast_cancer_classifier\u001b[33m with the following changes: {'tags added': ['sgd'], 'tags removed': ['xgboost']}. If you want to update the model configuration, please use the \u001b[0m\u001b[1;36mzenml model update\u001b[33m command.\u001b[0m\n",
      "\u001b[33mProvided model configuration does not match existing model \u001b[0m\u001b[1;36mbreast_cancer_classifier\u001b[33m with the following changes: {'tags added': ['sgd'], 'tags removed': ['xgboost']}. If you want to update the model configuration, please use the \u001b[0m\u001b[1;36mzenml model update\u001b[33m command.\u001b[0m\n",
      "\u001b[33mProvided model configuration does not match existing model \u001b[0m\u001b[1;36mbreast_cancer_classifier\u001b[33m with the following changes: {'tags added': ['sgd'], 'tags removed': ['xgboost']}. If you want to update the model configuration, please use the \u001b[0m\u001b[1;36mzenml model update\u001b[33m command.\u001b[0m\n",
      "\u001b[33mProvided model configuration does not match existing model \u001b[0m\u001b[1;36mbreast_cancer_classifier\u001b[33m with the following changes: {'tags added': ['sgd'], 'tags removed': ['xgboost']}. If you want to update the model configuration, please use the \u001b[0m\u001b[1;36mzenml model update\u001b[33m command.\u001b[0m\n",
      "\u001b[1;35mModel accuracy 74.31% is below 80% ! Not promoting model.\u001b[0m\n"
     ]
    }
   ],
   "source": [
    "# Let's train the SGD model and tag the version name with \"sgd\"\n",
    "pipeline_settings[\"model\"].tags = [\"breast_cancer\", \"classifier\", \"sgd\"]\n",
    "\n",
    "# Use a SGD classifier\n",
    "sgd_run = training.with_options(enable_cache=True,**pipeline_settings)(\n",
    "    model_type=\"sgd\",\n",
    "    random_state=42\n",
    ")\n",
    "\n",
    "sgd_run = client.get_pipeline(\"training\").last_run"
   ]
  },
  {
   "cell_type": "markdown",
   "id": "43f1a68a",
   "metadata": {},
   "source": [
    "You can see from the logs already how our model training went: the\n",
    "`XGBClassifier` performed considerably better than the `SGDClassifier`.\n",
    "We can use the ZenML `Client` to verify this:"
   ]
  },
  {
   "cell_type": "code",
   "execution_count": null,
   "id": "d95810b1",
   "metadata": {},
   "outputs": [],
   "source": [
    "# The evaluator returns a float value with the accuracy\n",
    "xgboost_run.steps[\"model_evaluator\"].output.load() >= sgd_run.steps[\"model_evaluator\"].output.load()"
   ]
  },
  {
   "cell_type": "markdown",
   "id": "09597223",
   "metadata": {},
   "source": [
    "Running both pipelines has created two associated **model versions**.\n",
    "You can list your ZenML model and their versions as follows:"
   ]
  },
  {
   "cell_type": "code",
   "execution_count": null,
   "id": "fbb25913",
   "metadata": {},
   "outputs": [],
   "source": [
    "zenml_model = client.get_model(\"breast_cancer_classifier\")\n",
    "print(zenml_model)\n",
    "\n",
    "versions = zenml_model.versions\n",
    "\n",
    "print(f\"Model {zenml_model.name} has {len(versions)} versions\")\n",
    "\n",
    "versions[-2].version, versions[-1].version"
   ]
  },
  {
   "cell_type": "markdown",
   "id": "e82cfac2",
   "metadata": {},
   "source": [
    "The interesting part is that ZenML went ahead and linked all artifacts produced by the\n",
    "pipelines to that model version, including the two pickle files that represent our\n",
    "SGD and RandomForest classifier. We can see all artifacts directly from the model\n",
    "version object:"
   ]
  },
  {
   "cell_type": "code",
   "execution_count": null,
   "id": "31211413",
   "metadata": {},
   "outputs": [],
   "source": [
    "# Let's load the XGBoost version\n",
    "xgboost_zenml_model_version = client.list_model_versions(\"breast_cancer_classifier\", tag=\"xgboost\")[-1]\n",
    "\n",
    "# We can now load our classifier directly as well\n",
    "xgboost_classifier = xgboost_zenml_model_version.get_artifact(\"breast_cancer_classifier\").load()\n",
    "\n",
    "xgboost_classifier"
   ]
  },
  {
   "cell_type": "markdown",
   "id": "53517a9a",
   "metadata": {},
   "source": [
    "If you are a [ZenML Cloud](https://zenml.io/cloud) user, you can see all of this visualized in the dashboard:\n",
    "\n",
    "<img src=\"_assets/cloud_mcp_screenshot.png\" width=\"70%\" alt=\"Model Control Plane\">"
   ]
  },
  {
   "cell_type": "markdown",
   "id": "eb645dde",
   "metadata": {},
   "source": [
    "There is a lot more you can do with ZenML models, including the ability to\n",
    "track metrics by adding metadata to it, or having them persist in a model\n",
    "registry. However, these topics can be explored more in the\n",
    "[ZenML docs](https://docs.zenml.io).\n",
    "\n",
    "For now, we will use the ZenML model control plane to promote our best\n",
    "model to `production`. You can do this by simply setting the `stage` of\n",
    "your chosen model version to the `production` tag."
   ]
  },
  {
   "cell_type": "code",
   "execution_count": null,
   "id": "26b718f8",
   "metadata": {},
   "outputs": [],
   "source": [
    "# Set our best classifier to production\n",
    "xgboost_zenml_model_version.set_stage(\"production\", force=True)"
   ]
  },
  {
   "cell_type": "markdown",
   "id": "9fddf3d0",
   "metadata": {},
   "source": [
    "Of course, normally one would only promote the model by comparing to all other model\n",
    "versions and doing some other tests. But that's a bit more advanced use-case. See the\n",
    "[e2e_batch example](https://github.com/zenml-io/zenml/tree/main/examples/e2e) to get\n",
    "more insight into that sort of flow!"
   ]
  },
  {
   "cell_type": "markdown",
   "id": "2ecbc8cf",
   "metadata": {},
   "source": []
  },
  {
   "cell_type": "markdown",
   "id": "8f1146db",
   "metadata": {},
   "source": [
    "Once the model is promoted, we can now consume the right model version in our\n",
    "batch inference pipeline directly. Let's see how that works."
   ]
  },
  {
   "cell_type": "markdown",
   "id": "d6306f14",
   "metadata": {},
   "source": [
    "# 🫅 Step 2: Consuming the model in production"
   ]
  },
  {
   "cell_type": "markdown",
   "id": "b51f3108",
   "metadata": {},
   "source": [
    "The batch inference pipeline simply takes the model marked as `production` and runs inference on it\n",
    "with `live data`. The critical step here is the `inference_predict` step, where we load the model in memory\n",
    "and generate predictions:\n",
    "\n",
    "<img src=\"_assets/inference_pipeline.png\" width=\"45%\" alt=\"Inference pipeline\">"
   ]
  },
  {
   "cell_type": "code",
   "execution_count": null,
   "id": "92c4c7dc",
   "metadata": {},
   "outputs": [],
   "source": [
    "# let's have a look at training pipeline\n",
    "%pycat steps/inference_predict.py\n"
   ]
  },
  {
   "cell_type": "markdown",
   "id": "3aeb227b",
   "metadata": {},
   "source": [
    "Apart from the loading the model, we must also load the preprocessing pipeline that we ran in feature engineering,\n",
    "so that we can do the exact steps that we did on training time, in inference time. Let's bring it all together:"
   ]
  },
  {
   "cell_type": "code",
   "execution_count": null,
   "id": "37c409bd",
   "metadata": {},
   "outputs": [],
   "source": [
    "# let's have a look at training pipeline\n",
    "%pycat pipelines/inference.py"
   ]
  },
  {
   "cell_type": "markdown",
   "id": "c7afe7be",
   "metadata": {},
   "source": [
    "The way to load the right model is to pass in the `production` stage into the `Model` config this time.\n",
    "This will ensure to always load the production model, decoupled from all other pipelines:"
   ]
  },
  {
   "cell_type": "code",
   "execution_count": null,
   "id": "61bf5939",
   "metadata": {},
   "outputs": [],
   "source": [
    "pipeline_settings = {\"enable_cache\": False}\n",
    "\n",
    "# Lets add some metadata to the model to make it identifiable\n",
    "pipeline_settings[\"model\"] = Model(\n",
    "    name=\"breast_cancer_classifier\",\n",
    "    version=\"production\", # We can pass in the stage name here!\n",
    ")"
   ]
  },
  {
   "cell_type": "code",
   "execution_count": null,
   "id": "ff3402f1",
   "metadata": {},
   "outputs": [],
   "source": [
    "# the `with_options` method allows us to pass in pipeline settings\n",
    "#  and returns a configured pipeline\n",
    "inference.with_options(**pipeline_settings)()"
   ]
  },
  {
   "cell_type": "markdown",
   "id": "2935d1fa",
   "metadata": {},
   "source": [
    "ZenML automatically links all artifacts to the `production` model version as well, including the predictions\n",
    "that were returned in the pipeline. This completes the MLOps loop of training to inference:"
   ]
  },
  {
   "cell_type": "code",
   "execution_count": null,
   "id": "e191d019",
   "metadata": {},
   "outputs": [],
   "source": [
    "# Fetch production model\n",
    "production_model_version = client.get_model_version(\"breast_cancer_classifier\", \"production\")\n",
    "\n",
    "# Get the predictions artifact\n",
    "production_model_version.get_artifact(\"predictions\").load()"
   ]
  },
  {
   "cell_type": "markdown",
   "id": "b0a73cdf",
   "metadata": {},
   "source": [
    "You can also see all predictions ever created as a complete history in the dashboard:\n",
    "\n",
    "<img src=\"_assets/cloud_mcp_predictions.png\" width=\"70%\" alt=\"Model Control Plane\">"
   ]
  },
  {
   "cell_type": "markdown",
   "id": "594ee4fc-f102-4b99-bdc3-2f1670c87679",
   "metadata": {},
   "source": [
    "# 🙏 Step 3: Bringing it all together\n",
    "\n",
    "Let's run all the moving pieces we navigated in the previous steps using production ready python script `run.py`"
   ]
  },
  {
   "cell_type": "code",
   "execution_count": null,
   "id": "fa40175d",
   "metadata": {},
   "outputs": [],
   "source": [
    "# let's clean up previous partial runs first\n",
    "! zenml model delete breast_cancer_classifier -y"
   ]
  },
  {
   "cell_type": "code",
   "execution_count": null,
   "id": "eea84c1e",
   "metadata": {},
   "outputs": [],
   "source": [
    "!zenml stack set local-wandb\n",
    "!zenml stack describe local-wandb"
   ]
  },
  {
   "cell_type": "code",
   "execution_count": null,
   "id": "3ee94bdf",
   "metadata": {},
   "outputs": [],
   "source": [
    "!python3 run.py --training-pipeline --inference-pipeline"
   ]
  },
  {
   "cell_type": "markdown",
   "id": "f1778dbd",
   "metadata": {},
   "source": [
    "Now full run executed on local stack and experiment is tracked using Model Control Plane and Weights&Biases.\n",
    "\n",
    "Let's move some heavy lifting steps to the Sagemaker keeping light ones on local, so we can reduce costs. This can be achieved using step operators and step configurations.\n",
    "\n",
    "To make this happen we will use following configuration option for step level settings:\n",
    "```yaml\n",
    "steps:\n",
    "  model_trainer:\n",
    "    \n",
    "    settings:\n",
    "      step_operator: sagemaker-eu\n",
    "        sagemaker:\n",
    "          estimator_args: \n",
    "            instance_type : ml.m5.large # select instance type\n",
    "```\n",
    "\n",
    "<img src=\"_assets/local_sagmaker_so_stack.png\" width=\"60%\" alt=\"Sagemaker step_op stack\">"
   ]
  },
  {
   "cell_type": "code",
   "execution_count": null,
   "id": "a878bd92",
   "metadata": {},
   "outputs": [],
   "source": [
    "!zenml stack set local-sagemaker-step-operator-wandb\n",
    "!zenml stack describe local-sagemaker-step-operator-wandb"
   ]
  },
  {
   "cell_type": "code",
   "execution_count": null,
   "id": "6363010c",
   "metadata": {},
   "outputs": [],
   "source": [
    "!python3 run.py --training-pipeline --inference-pipeline --custom-training-suffix _sagemaker"
   ]
  },
  {
   "cell_type": "markdown",
   "id": "df443f25",
   "metadata": {},
   "source": [
    "# 🐙 Step 4: Analyzing results"
   ]
  },
  {
   "cell_type": "code",
   "execution_count": null,
   "id": "2728fa4d",
   "metadata": {},
   "outputs": [],
   "source": [
    "sgd_model_version = client.list_model_versions(\"breast_cancer_classifier\",tag=\"sgd\")[-1]\n",
    "xgboost_model_version = client.list_model_versions(\"breast_cancer_classifier\",tag=\"xgboost\")[-1]\n",
    "print(f\"SGD version is staged as `{sgd_model_version.stage}`\")\n",
    "print(f\"XGBoost version is staged as `{xgboost_model_version.stage}`\")"
   ]
  },
  {
   "cell_type": "markdown",
   "id": "08a6cab7",
   "metadata": {},
   "source": [
    "At first, let's pull some meta information collected during models evaluation stage. To recall we used this step as evaluator:\n",
    "```python\n",
    "@step\n",
    "def model_evaluator(\n",
    "    model: ClassifierMixin,\n",
    "    dataset_trn: pd.DataFrame,\n",
    "    dataset_tst: pd.DataFrame,\n",
    "    min_train_accuracy: float = 0.0,\n",
    "    min_test_accuracy: float = 0.0,\n",
    "    target: Optional[str] = \"target\",\n",
    ") -> float:\n",
    "    # Calculate the model accuracy on the train and test set\n",
    "    trn_acc = model.score(...)\n",
    "    tst_acc = model.score(...)\n",
    "\n",
    "    ...\n",
    "    \n",
    "    predictions = model.predict(dataset_tst.drop(columns=[target]))\n",
    "    metadata = {\n",
    "        \"train_accuracy\": float(trn_acc),\n",
    "        \"test_accuracy\": float(tst_acc),\n",
    "        \"confusion_matrix\": confusion_matrix(dataset_tst[target], predictions)\n",
    "        .ravel()\n",
    "        .tolist(),\n",
    "    }\n",
    "    log_model_metadata(metadata={\"wandb_url\": wandb.run.url})\n",
    "    log_artifact_metadata(\n",
    "        metadata=metadata,\n",
    "        artifact_name=\"breast_cancer_classifier\",\n",
    "    )\n",
    "\n",
    "    wandb.log({\"train_accuracy\": metadata[\"train_accuracy\"]})\n",
    "    wandb.log({\"test_accuracy\": metadata[\"test_accuracy\"]})\n",
    "    wandb.log(\n",
    "        {\n",
    "            \"confusion_matrix\": wandb.sklearn.plot_confusion_matrix(\n",
    "                dataset_tst[target], predictions, [\"No Cancer\", \"Cancer\"]\n",
    "            )\n",
    "        }\n",
    "    )\n",
    "    return float(tst_acc)\n",
    "```\n",
    "First we pull Accuracy metrics out of both model version for comparison:"
   ]
  },
  {
   "cell_type": "code",
   "execution_count": null,
   "id": "2ee60c94",
   "metadata": {},
   "outputs": [],
   "source": [
    "sgd_clf_metadata = sgd_model_version.get_artifact(\"breast_cancer_classifier\").run_metadata\n",
    "xgboost_clf_metadata = xgboost_model_version.get_artifact(\"breast_cancer_classifier\").run_metadata\n",
    "print(f\"SGD{' (production)' if sgd_model_version.stage == 'production' else ''} metrics: train={sgd_clf_metadata['train_accuracy'].value*100:.2f}% test={sgd_clf_metadata['test_accuracy'].value*100:.2f}%\")\n",
    "print(f\"XGBoost{' (production)' if xgboost_model_version.stage == 'production' else ''} metrics: train={xgboost_clf_metadata['train_accuracy'].value*100:.2f}% test={xgboost_clf_metadata['test_accuracy'].value*100:.2f}%\")"
   ]
  },
  {
   "cell_type": "markdown",
   "id": "93baffa9",
   "metadata": {},
   "source": [
    "Now lets' plot collected Confusion Matrixes:"
   ]
  },
  {
   "cell_type": "code",
   "execution_count": null,
   "id": "e2a17048",
   "metadata": {},
   "outputs": [],
   "source": [
    "import seaborn as sns\n",
    "import numpy as np\n",
    "import matplotlib.pyplot as plt\n",
    "\n",
    "def plot_confusion_matrix(metadata_pointer, tp: str,ax):\n",
    "    confusion_matrix = np.array(metadata_pointer[\"confusion_matrix\"].value, dtype=float).reshape((2,2))\n",
    "    confusion_matrix /= np.sum(confusion_matrix)\n",
    "    sns.heatmap(confusion_matrix, annot=True,fmt='.2%',cmap=\"coolwarm\",ax=ax)\n",
    "    ax.set_title(f\"{tp} confusion matrix\")\n",
    "    ax.set_ylabel(\"Ground Label\")\n",
    "    ax.set_xlabel(\"Predicted Label\")\n",
    "\n",
    "fig, ax = plt.subplots(1,2,figsize=(15,4))\n",
    "plot_confusion_matrix(sgd_clf_metadata, \"SGD\",ax[0])\n",
    "plot_confusion_matrix(xgboost_clf_metadata, \"RF\",ax[1])"
   ]
  },
  {
   "cell_type": "markdown",
   "id": "d3841d9d",
   "metadata": {},
   "source": [
    "So far we were able to collect all the information we tracked using Model Control Plane, but we also had Weights&Biases tracking enabled - let's dive into.\n",
    "\n",
    "Thanks to Model Control Plane metadata we establish a nice connection between those 2 entities:"
   ]
  },
  {
   "cell_type": "code",
   "execution_count": null,
   "id": "d6832660",
   "metadata": {},
   "outputs": [],
   "source": [
    "print(f'SGD version: {sgd_model_version.run_metadata[\"wandb_url\"].value}')\n",
    "print(f'RF version: {xgboost_model_version.run_metadata[\"wandb_url\"].value}')"
   ]
  },
  {
   "cell_type": "markdown",
   "id": "e7b46393",
   "metadata": {},
   "source": [
    "With Model Control Plane we can also easily track lineage of artifacts and pipeline runs:"
   ]
  },
  {
   "cell_type": "code",
   "execution_count": null,
   "id": "88973e3a",
   "metadata": {},
   "outputs": [],
   "source": [
    "for artifact_name, versions in sgd_model_version.data_artifacts.items():\n",
    "    if versions:\n",
    "        print(f\"Existing version of `{artifact_name}`:\")\n",
    "        for version_name, artifact_ in  versions.items():\n",
    "            print(version_name, artifact_.data_type.attribute)"
   ]
  },
  {
   "cell_type": "code",
   "execution_count": null,
   "id": "7b10b01b",
   "metadata": {},
   "outputs": [],
   "source": [
    "for run_name, run_ in sgd_model_version.pipeline_runs.items():\n",
    "    print(run_name, run_.id)"
   ]
  }
 ],
 "metadata": {
  "kernelspec": {
   "display_name": "Python 3 (ipykernel)",
   "language": "python",
   "name": "python3"
  },
  "language_info": {
   "codemirror_mode": {
    "name": "ipython",
    "version": 3
   },
   "file_extension": ".py",
   "mimetype": "text/x-python",
   "name": "python",
   "nbconvert_exporter": "python",
   "pygments_lexer": "ipython3",
   "version": "3.8.10"
  }
 },
 "nbformat": 4,
 "nbformat_minor": 5
}
